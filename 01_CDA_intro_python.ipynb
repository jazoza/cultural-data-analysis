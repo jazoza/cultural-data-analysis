{
  "cells": [
    {
      "cell_type": "markdown",
      "metadata": {
        "id": "view-in-github",
        "colab_type": "text"
      },
      "source": [
        "<a href=\"https://colab.research.google.com/github/jazoza/cultural-data-analysis/blob/main/01_CDA_intro_python.ipynb\" target=\"_parent\"><img src=\"https://colab.research.google.com/assets/colab-badge.svg\" alt=\"Open In Colab\"/></a>"
      ]
    },
    {
      "cell_type": "markdown",
      "metadata": {
        "id": "C5a5Oh1wcH-N"
      },
      "source": [
        "# Cultural Data Analysis\n",
        "\n",
        "Introduction into Python"
      ]
    },
    {
      "cell_type": "markdown",
      "metadata": {
        "id": "kW8F5reFABkd"
      },
      "source": [
        "#### Basic operations"
      ]
    },
    {
      "cell_type": "code",
      "execution_count": null,
      "metadata": {
        "id": "qLSsldJccEp8"
      },
      "outputs": [],
      "source": [
        "# write something below, then click '>' to execute\n",
        "2"
      ]
    },
    {
      "cell_type": "code",
      "execution_count": null,
      "metadata": {
        "id": "Fml5yNeMcEp-"
      },
      "outputs": [],
      "source": [
        "2+2"
      ]
    },
    {
      "cell_type": "code",
      "execution_count": null,
      "metadata": {
        "id": "qCDi8awk-NKv"
      },
      "outputs": [],
      "source": [
        "2+4+5+2+0+2+3"
      ]
    },
    {
      "cell_type": "code",
      "execution_count": null,
      "metadata": {
        "id": "DIgRxv3t_bh1"
      },
      "outputs": [],
      "source": [
        "\"2\" + \"4\" + \" \" + \"5\" + \" \" + \"2\" + \"0\" + \"2\" + \"3\""
      ]
    },
    {
      "cell_type": "code",
      "execution_count": null,
      "metadata": {
        "id": "XAKic0RHAIbT"
      },
      "outputs": [],
      "source": [
        "# try some other operations\n",
        "\n",
        "4/2 + 3*6 - 8"
      ]
    },
    {
      "cell_type": "code",
      "execution_count": null,
      "metadata": {
        "id": "KDHeCXf4Ac38"
      },
      "outputs": [],
      "source": [
        "# notice the floating point (12.0); you can ask for a specific number type, floating point - \"float\" or integer - \"int\"\n",
        "\n",
        "int(4/2 + 3*6 - 8)"
      ]
    },
    {
      "cell_type": "markdown",
      "metadata": {
        "id": "-rxBNxTrRIZc"
      },
      "source": [
        "#### Working with variables\n",
        "\n",
        "A variable is a container for holding certain values, e.g. strings or numbers. In the course of the programme, one can access the value of the variable's content, or assign a new value to them."
      ]
    },
    {
      "cell_type": "code",
      "execution_count": null,
      "metadata": {
        "id": "UygEv-lTRIZc"
      },
      "outputs": [],
      "source": [
        "myVariable = \"AI technologies\"\n",
        "anotherVariable = \"rely on data\"\n",
        "print(myVariable + \" \" + anotherVariable)"
      ]
    },
    {
      "cell_type": "markdown",
      "metadata": {
        "id": "pJxdT-KWRIZe"
      },
      "source": [
        "The variable name is freely selectable, but there are a few words that you are not allowed to use (e.g. python-specific commands like print). Try the addition again and try to change the value of the variable:"
      ]
    },
    {
      "cell_type": "code",
      "execution_count": null,
      "metadata": {
        "id": "WhiGqjPcRIZe"
      },
      "outputs": [],
      "source": [
        "nummer1 = 5\n",
        "nummer2 = 2\n",
        "nummer1 * nummer2\n",
        "nummer1 + nummer2\n",
        "nummer1 - nummer2\n",
        "nummer1 / nummer2"
      ]
    },
    {
      "cell_type": "markdown",
      "metadata": {
        "id": "sdSHkEMDRIZf"
      },
      "source": [
        "Actually, we would expect the command line to spit out 4 values, right? You can use the \"print\" statement to print values in the terminal since the notebook terminal only prints the last command that outputs."
      ]
    },
    {
      "cell_type": "code",
      "execution_count": null,
      "metadata": {
        "id": "yLSKIQflRIZg"
      },
      "outputs": [],
      "source": [
        "i = 5\n",
        "print(i)\n",
        "i = i + 142\n",
        "print(i)\n",
        "i = 43\n",
        "print(i)"
      ]
    },
    {
      "cell_type": "markdown",
      "metadata": {
        "id": "WmN7q23PRIZh"
      },
      "source": [
        "You can make a mistake once in a while. The syntax must always be exact, for example Upper/lower case characters, a typing error such as Print instead of print immediately throws up an error:"
      ]
    },
    {
      "cell_type": "code",
      "execution_count": null,
      "metadata": {
        "id": "x4fv90ykRIZh"
      },
      "outputs": [],
      "source": [
        "Print i\n"
      ]
    },
    {
      "cell_type": "markdown",
      "metadata": {
        "id": "VQVwhoORCj5u"
      },
      "source": [
        "You get a syntax error. The first line of the error message immediately tells you where the error is. Because our programme has only one line, it is \"line 1\". You can also see that the word print is no longer green, as it was before! Try correcting the cell."
      ]
    },
    {
      "cell_type": "markdown",
      "metadata": {
        "id": "YDXBACToRIZj"
      },
      "source": [
        "#### Random numbers\n",
        "\n",
        "Now, let's get to know our first function. Functions are something like little sub-programmes that can give us a certain value.\n",
        "\n",
        "The function randint(m, n) returns a randomly selected number from the number range {m, m+1, ..., n}. A call randint(1, 6) thus returns a natural number between 1 and 6."
      ]
    },
    {
      "cell_type": "code",
      "execution_count": null,
      "metadata": {
        "id": "0NUoqiWTRIZj"
      },
      "outputs": [],
      "source": [
        "randint(1,6)"
      ]
    },
    {
      "cell_type": "markdown",
      "metadata": {
        "id": "HSJ4YEQpRIZk"
      },
      "source": [
        "But we get an error message that 'randint' is not defined. What does this mean? Python is very modular. The random function is an extra module and must first be imported:"
      ]
    },
    {
      "cell_type": "code",
      "execution_count": null,
      "metadata": {
        "collapsed": true,
        "id": "vftRtXmRRIZk"
      },
      "outputs": [],
      "source": [
        "from random import randint\n",
        "randint(1,6)"
      ]
    },
    {
      "cell_type": "markdown",
      "metadata": {
        "id": "9_m08ksTRIZk"
      },
      "source": [
        "Now the **random** module has now been loaded into our notebook and the **randint** function works. Try it many times, try changing the numbers. Bonus: all about random module: https://docs.python.org/3/library/random.html"
      ]
    },
    {
      "cell_type": "code",
      "execution_count": null,
      "metadata": {
        "id": "MN5t08rdRIZk"
      },
      "outputs": [],
      "source": [
        "# come back to numerology....\n",
        "luckyNumber = randint(1,1000000)\n",
        "print('your lucky number today is ', luckyNumber)"
      ]
    },
    {
      "cell_type": "markdown",
      "metadata": {
        "id": "qd2Lw0xSRIZo"
      },
      "source": [
        "A problem that occurs relatively often is when you want to link two different types of data (e.g. a number and a text). See for yourself:"
      ]
    },
    {
      "cell_type": "code",
      "execution_count": null,
      "metadata": {
        "id": "zSXTys5zRIZo"
      },
      "outputs": [],
      "source": [
        "print(\"Your lucky number is: \" + luckyNumber + \" soooo lucky\")\n"
      ]
    },
    {
      "cell_type": "markdown",
      "metadata": {
        "id": "vWSG2jyq8EY0"
      },
      "source": [
        "We have to convert the number - the value of the variable - into a string, like this:"
      ]
    },
    {
      "cell_type": "code",
      "execution_count": null,
      "metadata": {
        "id": "TThKh_QX73jZ"
      },
      "outputs": [],
      "source": [
        "print(\"Your lucky number is: \" + str(luckyNumber) + \" soooo lucky\")"
      ]
    },
    {
      "cell_type": "markdown",
      "metadata": {
        "id": "8-qo86Jf8NfK"
      },
      "source": [
        "Now try integrating the random function into this line instead of the variable value, to get a different number every time you run the code:"
      ]
    },
    {
      "cell_type": "markdown",
      "metadata": {
        "id": "IktiBNFERIZl"
      },
      "source": [
        "### Conditional statements\n",
        "\n",
        "At some points in your code , you want to detect or distinguis certain stages/conditions. So far, we have been able to write programmes in which one instruction follows another and they are also executed in this order. In a programming language, a conditional statement means parts of code that are executed under certain conditions. If the condition is not present, this code is not executed.  Normally it looks like this in Python:\n",
        "\n",
        "```\n",
        "if condition1:\n",
        "    instructions1\n",
        "\n",
        "```"
      ]
    },
    {
      "cell_type": "markdown",
      "metadata": {
        "id": "tAG8MFHQRIZl"
      },
      "source": [
        "You see the second line is indented. The tabulator key is used to make the indentation. How do these instructions work? With the condition, you check whether a state is \"true\" or \"false\"."
      ]
    },
    {
      "cell_type": "code",
      "execution_count": null,
      "metadata": {
        "id": "NjbgEFicRIZl"
      },
      "outputs": [],
      "source": [
        "nummer1 = 3\n",
        "nummer2 = 5\n",
        "if nummer1 == nummer2:\n",
        "    print(\"they're the same!!!!\")\n",
        "else:\n",
        "    print(\"not sure which number is bigger\")\n",
        "    print(\"but they're not the same\")\n",
        "    print(\"--------------\")"
      ]
    },
    {
      "cell_type": "markdown",
      "metadata": {
        "id": "t-pYz_NMRIZm"
      },
      "source": [
        "Now try changing the numbers. Suddenly the output disappears because the condition no longer applies. Here you use two == characters to compare the two values. The counterpart to the *if* is the *else*, with which you can catch everything that does not apply:\n"
      ]
    },
    {
      "cell_type": "markdown",
      "metadata": {
        "id": "WI78c_DhRIZn"
      },
      "source": [
        "You can also check if the value exceeds a certain limit with the less and greater sign < >: try to swap the > with the <. Does the output change?"
      ]
    },
    {
      "cell_type": "code",
      "execution_count": null,
      "metadata": {
        "id": "Lj9rsitgRIZn"
      },
      "outputs": [],
      "source": [
        "nummer1 = 5\n",
        "nummer2 = 3\n",
        "if nummer1 > nummer2:\n",
        "    print(\"number 1 is bigger than number 2\")\n",
        "else:\n",
        "    print(\"## number 2 is bigger than number 1\")"
      ]
    },
    {
      "cell_type": "markdown",
      "metadata": {
        "id": "mvlZM5ooRIZq"
      },
      "source": [
        "### Loops\n",
        "\n",
        "You can make the computer do repetitive things quite easily with loops. Loops, are needed to repeatedly execute a block of code, also called a loop body. In Python, there are two types of loops: the while loop and the for loop."
      ]
    },
    {
      "cell_type": "code",
      "execution_count": null,
      "metadata": {
        "id": "OWkPGK0ORIZq"
      },
      "outputs": [],
      "source": [
        "a = 0\n",
        "while a < 4:\n",
        "    #a = a + 1\n",
        "    a += 1\n",
        "    print(a)\n",
        "    print(\"hello world\")\n"
      ]
    },
    {
      "cell_type": "code",
      "execution_count": null,
      "metadata": {
        "id": "kJMio2LARIZq"
      },
      "outputs": [],
      "source": [
        "for i in range(35):\n",
        "    print(\"hello\")\n",
        "    print(i)"
      ]
    },
    {
      "cell_type": "markdown",
      "metadata": {
        "id": "yhstrOGyRIZs"
      },
      "source": [
        "How can you build a down-counting counter from this? Try to think it through on a piece of paper. Tip: you have to subtract something!"
      ]
    },
    {
      "cell_type": "code",
      "execution_count": null,
      "metadata": {
        "id": "y6UcOFg0RIZs",
        "scrolled": false
      },
      "outputs": [],
      "source": []
    },
    {
      "cell_type": "markdown",
      "metadata": {
        "id": "6PZ9VpnvRIZs"
      },
      "source": [
        "### Lists\n",
        "\n",
        "A list can be thought of as an array of single elements. You can create lists of any length, either with numbers or with text, or with both. A list of values (elements) is separated by commas and enclosed in square brackets. To define a list"
      ]
    },
    {
      "cell_type": "code",
      "execution_count": null,
      "metadata": {
        "id": "0rK11-4jRIZs"
      },
      "outputs": [],
      "source": [
        "myList = [\"batman\",\"technoviking\",\"nyancat\"]\n",
        "print(myList)"
      ]
    },
    {
      "cell_type": "markdown",
      "metadata": {
        "id": "eubcnO8vRIZt"
      },
      "source": [
        "Lists are helpful because a lot of data is usually stored via lists. To read the individual texts from the list, you can write:"
      ]
    },
    {
      "cell_type": "code",
      "execution_count": null,
      "metadata": {
        "id": "FoGYjsugRIZt"
      },
      "outputs": [],
      "source": [
        "print(myList[0] + \" is so boring\")\n",
        "print(myList[1] + \" is so boring\")"
      ]
    },
    {
      "cell_type": "markdown",
      "metadata": {
        "id": "DMEnMhi1RIZv"
      },
      "source": [
        "The practical thing is that you can use loops together with lists."
      ]
    },
    {
      "cell_type": "code",
      "execution_count": null,
      "metadata": {
        "id": "nS_qtCQMRIZv"
      },
      "outputs": [],
      "source": [
        "for element in myList:\n",
        "    print(element + \" is so boring\")"
      ]
    },
    {
      "cell_type": "markdown",
      "metadata": {
        "id": "sykulWTrRIZv"
      },
      "source": [
        "If I change the length of the list, I can use the same for loop to output them all:"
      ]
    },
    {
      "cell_type": "code",
      "execution_count": null,
      "metadata": {
        "id": "PZLX4_GkRIZw"
      },
      "outputs": [],
      "source": [
        "myList = [\"batman\",\"saxplayer\",\"technoviking\",\"nyancat\",\"rainbow\",\"double rainbow\",\"waterfall\",\"and so on...\"]\n",
        "for element in myList:\n",
        "    print(element)"
      ]
    },
    {
      "cell_type": "markdown",
      "metadata": {
        "id": "MRajLJ7JRIZw"
      },
      "source": [
        "We can randomly mix up the order in the list with the shuffle function:"
      ]
    },
    {
      "cell_type": "code",
      "execution_count": null,
      "metadata": {
        "id": "4JDRcyhzRIZw"
      },
      "outputs": [],
      "source": [
        "import random\n",
        "random.shuffle(myList)"
      ]
    },
    {
      "cell_type": "markdown",
      "metadata": {
        "id": "I3CmHMdrRIZw"
      },
      "source": [
        "This does nothing at first, at least it looks like it. But the order has already been changed, so if we now output myList, we see the following:"
      ]
    },
    {
      "cell_type": "code",
      "execution_count": null,
      "metadata": {
        "id": "pxbfxngERIZx"
      },
      "outputs": [],
      "source": [
        "myList"
      ]
    },
    {
      "cell_type": "markdown",
      "metadata": {
        "id": "dNQzdCbcRIZx"
      },
      "source": [
        "Now try random.shuffle(mylist) again in the bottom row"
      ]
    },
    {
      "cell_type": "code",
      "execution_count": null,
      "metadata": {
        "collapsed": true,
        "id": "5xDR0WOuRIZx"
      },
      "outputs": [],
      "source": []
    },
    {
      "cell_type": "code",
      "execution_count": null,
      "metadata": {
        "id": "RnQqfiOCzMHX"
      },
      "outputs": [],
      "source": [
        "# import and use relevant libraries"
      ]
    },
    {
      "cell_type": "code",
      "execution_count": null,
      "metadata": {
        "id": "1xp7LW6SXrrc"
      },
      "outputs": [],
      "source": [
        "import this # for more eastereggs look here https://xkcd.com/353/"
      ]
    },
    {
      "cell_type": "markdown",
      "source": [
        "## Working with a movies dataset\n",
        "\n",
        "Use pandas module to load and explore a dataset on movies"
      ],
      "metadata": {
        "id": "dHtFjGxZcK3v"
      }
    },
    {
      "cell_type": "code",
      "source": [
        "import json\n",
        "import datetime\n",
        "import ast\n",
        "import pandas as pd\n",
        "import matplotlib.pyplot as plt\n",
        "import seaborn as sns\n",
        "import numpy as np\n",
        "from scipy import stats\n",
        "from sklearn.ensemble import GradientBoostingClassifier, GradientBoostingRegressor\n",
        "from sklearn.dummy import DummyClassifier, DummyRegressor\n",
        "from sklearn.model_selection import train_test_split\n",
        "from xgboost import XGBClassifier, XGBRegressor\n",
        "from wordcloud import WordCloud, STOPWORDS\n",
        "import plotly\n",
        "import plotly.offline as py\n",
        "import plotly.graph_objs as go\n",
        "import plotly.tools as tls\n",
        "import warnings\n",
        "warnings.filterwarnings('ignore')"
      ],
      "metadata": {
        "id": "BF0_zzflr2pc"
      },
      "execution_count": null,
      "outputs": []
    },
    {
      "cell_type": "code",
      "source": [
        "df = pd.read_csv('sample_data/movies_metadata.csv')\n",
        "df.head().transpose()"
      ],
      "metadata": {
        "id": "KqS63FZlr2Xk"
      },
      "execution_count": null,
      "outputs": []
    },
    {
      "cell_type": "code",
      "source": [
        "df.info()"
      ],
      "metadata": {
        "id": "qeAT_UDusuL5"
      },
      "execution_count": null,
      "outputs": []
    },
    {
      "cell_type": "code",
      "source": [
        "df.columns"
      ],
      "metadata": {
        "id": "dVlTmTnpsWco"
      },
      "execution_count": null,
      "outputs": []
    },
    {
      "cell_type": "code",
      "source": [
        "df.shape"
      ],
      "metadata": {
        "id": "qmaT0VAespa-"
      },
      "execution_count": null,
      "outputs": []
    },
    {
      "cell_type": "code",
      "source": [
        "df = df.drop(['imdb_id'], axis=1)"
      ],
      "metadata": {
        "id": "jhwlMdCls60N"
      },
      "execution_count": null,
      "outputs": []
    },
    {
      "cell_type": "code",
      "source": [
        "# Write the title in latin alphabet, add new column\n",
        "df[df['original_title'] != df['title']][['title', 'original_title']].head()"
      ],
      "metadata": {
        "id": "VxAcSu7Us9O7"
      },
      "execution_count": null,
      "outputs": []
    },
    {
      "cell_type": "code",
      "source": [
        "# Fill in NAN for missing data\n",
        "df['revenue'] = df['revenue'].replace(0, np.nan)\n",
        "df['budget'] = pd.to_numeric(df['budget'], errors='coerce')\n",
        "df['budget'] = df['budget'].replace(0, np.nan)"
      ],
      "metadata": {
        "id": "lrXReTK71y2d"
      },
      "execution_count": null,
      "outputs": []
    },
    {
      "cell_type": "code",
      "source": [
        "df['year'] = pd.to_datetime(df['release_date'], errors='coerce').apply(lambda x: str(x).split('-')[0] if x != np.nan else np.nan)"
      ],
      "metadata": {
        "id": "B21DBxgH2UCN"
      },
      "execution_count": null,
      "outputs": []
    },
    {
      "cell_type": "markdown",
      "source": [
        "#### Exploratory data analysis"
      ],
      "metadata": {
        "id": "TcNoYJ6CtS-j"
      }
    },
    {
      "cell_type": "markdown",
      "source": [
        "Visually explore word frequency in movie titles and overviews"
      ],
      "metadata": {
        "id": "R0RostfTtwdx"
      }
    },
    {
      "cell_type": "code",
      "source": [
        "df['title'] = df['title'].astype('str')\n",
        "df['overview'] = df['overview'].astype('str')\n",
        "title_corpus = ' '.join(df['title'])\n",
        "overview_corpus = ' '.join(df['overview'])\n",
        "\n",
        "# Create a wordcloud based on movie titles\n",
        "title_wordcloud = WordCloud(stopwords=STOPWORDS, background_color='white', height=2000, width=4000).generate(title_corpus)\n",
        "plt.figure(figsize=(16,8))\n",
        "plt.imshow(title_wordcloud)\n",
        "plt.axis('off')\n",
        "plt.show()"
      ],
      "metadata": {
        "id": "I3RBfJN7tOfS"
      },
      "execution_count": null,
      "outputs": []
    },
    {
      "cell_type": "code",
      "source": [
        "# Create a wordcloud based on movie overviews\n",
        "overview_wordcloud = WordCloud(stopwords=STOPWORDS, background_color='white', height=2000, width=4000).generate(overview_corpus)\n",
        "plt.figure(figsize=(16,8))\n",
        "plt.imshow(overview_wordcloud)\n",
        "plt.axis('off')\n",
        "plt.show()"
      ],
      "metadata": {
        "id": "cG8MxwDztcJj"
      },
      "execution_count": null,
      "outputs": []
    },
    {
      "cell_type": "markdown",
      "source": [
        "Q: How many movies come from which countries?"
      ],
      "metadata": {
        "id": "tNg5zMcvt4_M"
      }
    },
    {
      "cell_type": "code",
      "source": [
        "# Remove columns with very sparse data\n",
        "df = df.drop('adult', axis=1)\n",
        "df = df.drop('original_title', axis=1)"
      ],
      "metadata": {
        "id": "ySrAiZOu1W47"
      },
      "execution_count": null,
      "outputs": []
    },
    {
      "cell_type": "code",
      "source": [
        "df['production_countries'] = df['production_countries'].fillna('[]').apply(ast.literal_eval)\n",
        "s = df.apply(lambda x: pd.Series(x['production_countries']),axis=1).stack().reset_index(level=1, drop=True)\n",
        "s.name = 'countries'\n",
        "con_df = df.drop('production_countries', axis=1).join(s)\n",
        "con_df = pd.DataFrame(con_df['countries'].value_counts())\n",
        "con_df['country'] = con_df.index\n",
        "con_df.columns = ['num_movies', 'country']\n",
        "con_df = con_df.reset_index().drop('countries', axis=1)\n",
        "con_df.head(10)"
      ],
      "metadata": {
        "id": "m3NGF4pPt8MT"
      },
      "execution_count": null,
      "outputs": []
    },
    {
      "cell_type": "markdown",
      "source": [
        "Q: Which production companies made highest income?"
      ],
      "metadata": {
        "id": "qss0LxMTuTqL"
      }
    },
    {
      "cell_type": "code",
      "source": [
        "df['production_companies'] = df['production_companies'].fillna('[]').apply(ast.literal_eval)\n",
        "df['production_companies'] = df['production_companies'].apply(lambda x: [i['name'] for i in x] if isinstance(x, list) else [])\n",
        "s = df.apply(lambda x: pd.Series(x['production_companies']),axis=1).stack().reset_index(level=1, drop=True)\n",
        "s.name = 'companies'\n",
        "com_df = df.drop('production_companies', axis=1).join(s)\n",
        "com_sum = pd.DataFrame(com_df.groupby('companies')['revenue'].sum().sort_values(ascending=False))\n",
        "com_sum.columns = ['Total']\n",
        "com_mean = pd.DataFrame(com_df.groupby('companies')['revenue'].mean().sort_values(ascending=False))\n",
        "com_mean.columns = ['Average']\n",
        "com_count = pd.DataFrame(com_df.groupby('companies')['revenue'].count().sort_values(ascending=False))\n",
        "com_count.columns = ['Number']\n",
        "\n",
        "com_pivot = pd.concat((com_sum, com_mean, com_count), axis=1)\n",
        "\n",
        "com_pivot.sort_values('Total', ascending=False).head(10)"
      ],
      "metadata": {
        "id": "Ty2bmp8MubGL"
      },
      "execution_count": null,
      "outputs": []
    },
    {
      "cell_type": "markdown",
      "source": [
        "Q: Which are the ten most productive production companies (produced 15 movies or more)?"
      ],
      "metadata": {
        "id": "v2yEcWNBLrVn"
      }
    },
    {
      "cell_type": "code",
      "source": [
        "com_pivot[com_pivot['Number'] >= 15].sort_values('Average', ascending=False).head(10)"
      ],
      "metadata": {
        "id": "U4f9-bKPuoLz"
      },
      "execution_count": null,
      "outputs": []
    },
    {
      "cell_type": "markdown",
      "source": [
        "Q: What are the 7 most spoken languages in movies in this dataset?"
      ],
      "metadata": {
        "id": "QTwnNI0pMBAf"
      }
    },
    {
      "cell_type": "code",
      "source": [
        "# How many different languages:\n",
        "print('Movies in the dataset are in', df['original_language'].drop_duplicates().shape[0], 'languages')\n",
        "lang_df = pd.DataFrame(df['original_language'].value_counts())\n",
        "lang_df['language'] = lang_df.index\n",
        "lang_df.columns = ['number', 'language']\n",
        "lang_df.head(7)"
      ],
      "metadata": {
        "id": "2tq5I_-4L0Ju"
      },
      "execution_count": null,
      "outputs": []
    },
    {
      "cell_type": "code",
      "source": [
        "# Plot most popular languages apart from English\n",
        "plt.figure(figsize=(12,5))\n",
        "sns.set_style('whitegrid')\n",
        "sns.set(font_scale=1.25)\n",
        "pd.set_option('display.max_colwidth', 50)\n",
        "sns.barplot(x='language', y='number', data=lang_df.iloc[1:11], color='r')\n",
        "plt.show()"
      ],
      "metadata": {
        "id": "iXudMUQhMOUm"
      },
      "execution_count": null,
      "outputs": []
    },
    {
      "cell_type": "markdown",
      "source": [
        "Q: What genres are represented in the dataset and how are they distributed?"
      ],
      "metadata": {
        "id": "fCsi5m-zPQck"
      }
    },
    {
      "cell_type": "code",
      "source": [
        "#df['genres'] = df['genres'].fillna('[]').apply(ast.literal_eval).apply(lambda x: [i['name'] for i in x] if isinstance(x, list) else [])\n",
        "s = df.apply(lambda x: pd.Series(x['genres']),axis=1).stack().reset_index(level=1, drop=True)\n",
        "s.name = 'genre'\n",
        "gen_df = df.drop('genres', axis=1).join(s)\n",
        "gen_df['genre'].value_counts().shape[0]"
      ],
      "metadata": {
        "id": "RylLybjjNB43"
      },
      "execution_count": null,
      "outputs": []
    },
    {
      "cell_type": "code",
      "source": [
        "pop_gen = pd.DataFrame(gen_df['genre'].value_counts()).reset_index()\n",
        "pop_gen.columns = ['genre', 'movies']\n",
        "pop_gen.head(10)"
      ],
      "metadata": {
        "id": "luwT80HbPcp3"
      },
      "execution_count": null,
      "outputs": []
    }
  ],
  "metadata": {
    "colab": {
      "collapsed_sections": [
        "-rxBNxTrRIZc"
      ],
      "provenance": [],
      "toc_visible": true,
      "include_colab_link": true
    },
    "kernelspec": {
      "display_name": "Python 3",
      "name": "python3"
    },
    "language_info": {
      "name": "python"
    }
  },
  "nbformat": 4,
  "nbformat_minor": 0
}