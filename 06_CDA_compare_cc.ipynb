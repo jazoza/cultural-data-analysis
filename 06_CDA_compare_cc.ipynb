{
  "cells": [
    {
      "cell_type": "markdown",
      "source": [
        "# Cultural Data Analysis\n",
        "\n",
        "Introduction to working with datasets"
      ],
      "metadata": {
        "id": "7CC34uuNzNxY"
      },
      "id": "7CC34uuNzNxY"
    },
    {
      "cell_type": "code",
      "execution_count": 1,
      "id": "76a4e150-cc6f-4878-a32b-e78a1d6426ae",
      "metadata": {
        "id": "76a4e150-cc6f-4878-a32b-e78a1d6426ae"
      },
      "outputs": [],
      "source": [
        "# import necessary libraries\n",
        "import os, re, csv\n",
        "import pandas as pd\n",
        "import numpy as np\n",
        "import gensim, nltk\n",
        "from sklearn.feature_extraction.text import CountVectorizer\n",
        "from collections import Counter\n",
        "from itertools import islice\n",
        "from nltk.corpus import stopwords\n",
        "import string\n",
        "import pickle"
      ]
    },
    {
      "cell_type": "markdown",
      "id": "7010dda9-acc5-4d90-b175-90012564d13c",
      "metadata": {
        "id": "7010dda9-acc5-4d90-b175-90012564d13c"
      },
      "source": [
        "## Loading the dataset: heritage homes webistes\n",
        "\n",
        "The dataset is stored in a shared google drive:\n",
        "https://drive.google.com/drive/folders/11Shm0edDOiWrOe56fzJQRZi-v_BPSW8E?usp=drive_link\n",
        "\n",
        "Add it to your drive.\n",
        "\n",
        "To access it, load your gdrive in 'Files' (see left pane of the notebook in google colab) and navigate to the shared folder. You may need to click on 'refresh' to make it appear on the list."
      ]
    },
    {
      "cell_type": "code",
      "execution_count": 2,
      "id": "d42429d3-63fe-4b79-b341-160057e5dcbc",
      "metadata": {
        "id": "d42429d3-63fe-4b79-b341-160057e5dcbc",
        "outputId": "f0b3ca38-caa7-48e9-88b1-7a5753be1ada",
        "colab": {
          "base_uri": "https://localhost:8080/"
        }
      },
      "outputs": [
        {
          "output_type": "stream",
          "name": "stdout",
          "text": [
            "Mounted at /content/gdrive\n"
          ]
        }
      ],
      "source": [
        "from google.colab import drive\n",
        "drive.mount('/content/gdrive')"
      ]
    },
    {
      "cell_type": "code",
      "source": [
        "# Country code: change here between 'NL' and 'UK'\n",
        "cc_list = ['NL', 'UK', 'DE', 'FR']"
      ],
      "metadata": {
        "id": "QYiHwjcORrPC"
      },
      "id": "QYiHwjcORrPC",
      "execution_count": 5,
      "outputs": []
    },
    {
      "cell_type": "code",
      "source": [
        "gdrive_path = '/content/gdrive/MyDrive/CDA/'"
      ],
      "metadata": {
        "id": "bbjhZ8nKZtZC"
      },
      "id": "bbjhZ8nKZtZC",
      "execution_count": 4,
      "outputs": []
    },
    {
      "cell_type": "code",
      "source": [
        "# function to extract the main domain from the url in the dataset\n",
        "def extract_main_domain(url):\n",
        "    if not isinstance(str(url), str):\n",
        "        print('NOT VALID',url)\n",
        "        return None\n",
        "    match = re.findall('(?:\\w+\\.)*\\w+\\.\\w*', str(url)) #'www\\.?([^/]+)'\n",
        "    return match[0].lstrip('www.') if match else None"
      ],
      "metadata": {
        "id": "_Px9Aoim4-pq"
      },
      "id": "_Px9Aoim4-pq",
      "execution_count": 22,
      "outputs": []
    },
    {
      "cell_type": "code",
      "execution_count": 25,
      "id": "8697b51f-50a5-4091-9cc1-0aed1308b27d",
      "metadata": {
        "id": "8697b51f-50a5-4091-9cc1-0aed1308b27d",
        "outputId": "f864a2c3-7177-4364-ac70-34c3ce870aeb",
        "colab": {
          "base_uri": "https://localhost:8080/",
          "height": 206
        }
      },
      "outputs": [
        {
          "output_type": "execute_result",
          "data": {
            "text/plain": [
              "                                                 url  \\\n",
              "0                                  http://weldam.nl/   \n",
              "1                   http://weldam.nl/nederlands.html   \n",
              "2  http://weldam.nl/nederlands/beginpagina/test-2...   \n",
              "3                          https://www.huisdoorn.nl/   \n",
              "4                   https://www.museumdefundatie.nl/   \n",
              "\n",
              "                                                text  \n",
              "0  Introduction - Weldam\\nIntroduction\\nWeldam, s...  \n",
              "1  Nederlands - Weldam\\nCopyright Landgoed Weldam...  \n",
              "2  Test 1.2 - Weldam\\nCopyright Landgoed Weldam 2...  \n",
              "3  Ontdek de geschiedenis - Museum Huis Doorn\\nDe...  \n",
              "4  Museum de FundatieTwitter Widget Iframe\\nMuseu...  "
            ],
            "text/html": [
              "\n",
              "  <div id=\"df-d0dfaba8-e5d7-474b-99af-a49e7f4cb88a\" class=\"colab-df-container\">\n",
              "    <div>\n",
              "<style scoped>\n",
              "    .dataframe tbody tr th:only-of-type {\n",
              "        vertical-align: middle;\n",
              "    }\n",
              "\n",
              "    .dataframe tbody tr th {\n",
              "        vertical-align: top;\n",
              "    }\n",
              "\n",
              "    .dataframe thead th {\n",
              "        text-align: right;\n",
              "    }\n",
              "</style>\n",
              "<table border=\"1\" class=\"dataframe\">\n",
              "  <thead>\n",
              "    <tr style=\"text-align: right;\">\n",
              "      <th></th>\n",
              "      <th>url</th>\n",
              "      <th>text</th>\n",
              "    </tr>\n",
              "  </thead>\n",
              "  <tbody>\n",
              "    <tr>\n",
              "      <th>0</th>\n",
              "      <td>http://weldam.nl/</td>\n",
              "      <td>Introduction - Weldam\\nIntroduction\\nWeldam, s...</td>\n",
              "    </tr>\n",
              "    <tr>\n",
              "      <th>1</th>\n",
              "      <td>http://weldam.nl/nederlands.html</td>\n",
              "      <td>Nederlands - Weldam\\nCopyright Landgoed Weldam...</td>\n",
              "    </tr>\n",
              "    <tr>\n",
              "      <th>2</th>\n",
              "      <td>http://weldam.nl/nederlands/beginpagina/test-2...</td>\n",
              "      <td>Test 1.2 - Weldam\\nCopyright Landgoed Weldam 2...</td>\n",
              "    </tr>\n",
              "    <tr>\n",
              "      <th>3</th>\n",
              "      <td>https://www.huisdoorn.nl/</td>\n",
              "      <td>Ontdek de geschiedenis - Museum Huis Doorn\\nDe...</td>\n",
              "    </tr>\n",
              "    <tr>\n",
              "      <th>4</th>\n",
              "      <td>https://www.museumdefundatie.nl/</td>\n",
              "      <td>Museum de FundatieTwitter Widget Iframe\\nMuseu...</td>\n",
              "    </tr>\n",
              "  </tbody>\n",
              "</table>\n",
              "</div>\n",
              "    <div class=\"colab-df-buttons\">\n",
              "\n",
              "  <div class=\"colab-df-container\">\n",
              "    <button class=\"colab-df-convert\" onclick=\"convertToInteractive('df-d0dfaba8-e5d7-474b-99af-a49e7f4cb88a')\"\n",
              "            title=\"Convert this dataframe to an interactive table.\"\n",
              "            style=\"display:none;\">\n",
              "\n",
              "  <svg xmlns=\"http://www.w3.org/2000/svg\" height=\"24px\" viewBox=\"0 -960 960 960\">\n",
              "    <path d=\"M120-120v-720h720v720H120Zm60-500h600v-160H180v160Zm220 220h160v-160H400v160Zm0 220h160v-160H400v160ZM180-400h160v-160H180v160Zm440 0h160v-160H620v160ZM180-180h160v-160H180v160Zm440 0h160v-160H620v160Z\"/>\n",
              "  </svg>\n",
              "    </button>\n",
              "\n",
              "  <style>\n",
              "    .colab-df-container {\n",
              "      display:flex;\n",
              "      gap: 12px;\n",
              "    }\n",
              "\n",
              "    .colab-df-convert {\n",
              "      background-color: #E8F0FE;\n",
              "      border: none;\n",
              "      border-radius: 50%;\n",
              "      cursor: pointer;\n",
              "      display: none;\n",
              "      fill: #1967D2;\n",
              "      height: 32px;\n",
              "      padding: 0 0 0 0;\n",
              "      width: 32px;\n",
              "    }\n",
              "\n",
              "    .colab-df-convert:hover {\n",
              "      background-color: #E2EBFA;\n",
              "      box-shadow: 0px 1px 2px rgba(60, 64, 67, 0.3), 0px 1px 3px 1px rgba(60, 64, 67, 0.15);\n",
              "      fill: #174EA6;\n",
              "    }\n",
              "\n",
              "    .colab-df-buttons div {\n",
              "      margin-bottom: 4px;\n",
              "    }\n",
              "\n",
              "    [theme=dark] .colab-df-convert {\n",
              "      background-color: #3B4455;\n",
              "      fill: #D2E3FC;\n",
              "    }\n",
              "\n",
              "    [theme=dark] .colab-df-convert:hover {\n",
              "      background-color: #434B5C;\n",
              "      box-shadow: 0px 1px 3px 1px rgba(0, 0, 0, 0.15);\n",
              "      filter: drop-shadow(0px 1px 2px rgba(0, 0, 0, 0.3));\n",
              "      fill: #FFFFFF;\n",
              "    }\n",
              "  </style>\n",
              "\n",
              "    <script>\n",
              "      const buttonEl =\n",
              "        document.querySelector('#df-d0dfaba8-e5d7-474b-99af-a49e7f4cb88a button.colab-df-convert');\n",
              "      buttonEl.style.display =\n",
              "        google.colab.kernel.accessAllowed ? 'block' : 'none';\n",
              "\n",
              "      async function convertToInteractive(key) {\n",
              "        const element = document.querySelector('#df-d0dfaba8-e5d7-474b-99af-a49e7f4cb88a');\n",
              "        const dataTable =\n",
              "          await google.colab.kernel.invokeFunction('convertToInteractive',\n",
              "                                                    [key], {});\n",
              "        if (!dataTable) return;\n",
              "\n",
              "        const docLinkHtml = 'Like what you see? Visit the ' +\n",
              "          '<a target=\"_blank\" href=https://colab.research.google.com/notebooks/data_table.ipynb>data table notebook</a>'\n",
              "          + ' to learn more about interactive tables.';\n",
              "        element.innerHTML = '';\n",
              "        dataTable['output_type'] = 'display_data';\n",
              "        await google.colab.output.renderOutput(dataTable, element);\n",
              "        const docLink = document.createElement('div');\n",
              "        docLink.innerHTML = docLinkHtml;\n",
              "        element.appendChild(docLink);\n",
              "      }\n",
              "    </script>\n",
              "  </div>\n",
              "\n",
              "\n",
              "<div id=\"df-55494575-6b8a-46bc-bced-943835ccbcf8\">\n",
              "  <button class=\"colab-df-quickchart\" onclick=\"quickchart('df-55494575-6b8a-46bc-bced-943835ccbcf8')\"\n",
              "            title=\"Suggest charts\"\n",
              "            style=\"display:none;\">\n",
              "\n",
              "<svg xmlns=\"http://www.w3.org/2000/svg\" height=\"24px\"viewBox=\"0 0 24 24\"\n",
              "     width=\"24px\">\n",
              "    <g>\n",
              "        <path d=\"M19 3H5c-1.1 0-2 .9-2 2v14c0 1.1.9 2 2 2h14c1.1 0 2-.9 2-2V5c0-1.1-.9-2-2-2zM9 17H7v-7h2v7zm4 0h-2V7h2v10zm4 0h-2v-4h2v4z\"/>\n",
              "    </g>\n",
              "</svg>\n",
              "  </button>\n",
              "\n",
              "<style>\n",
              "  .colab-df-quickchart {\n",
              "      --bg-color: #E8F0FE;\n",
              "      --fill-color: #1967D2;\n",
              "      --hover-bg-color: #E2EBFA;\n",
              "      --hover-fill-color: #174EA6;\n",
              "      --disabled-fill-color: #AAA;\n",
              "      --disabled-bg-color: #DDD;\n",
              "  }\n",
              "\n",
              "  [theme=dark] .colab-df-quickchart {\n",
              "      --bg-color: #3B4455;\n",
              "      --fill-color: #D2E3FC;\n",
              "      --hover-bg-color: #434B5C;\n",
              "      --hover-fill-color: #FFFFFF;\n",
              "      --disabled-bg-color: #3B4455;\n",
              "      --disabled-fill-color: #666;\n",
              "  }\n",
              "\n",
              "  .colab-df-quickchart {\n",
              "    background-color: var(--bg-color);\n",
              "    border: none;\n",
              "    border-radius: 50%;\n",
              "    cursor: pointer;\n",
              "    display: none;\n",
              "    fill: var(--fill-color);\n",
              "    height: 32px;\n",
              "    padding: 0;\n",
              "    width: 32px;\n",
              "  }\n",
              "\n",
              "  .colab-df-quickchart:hover {\n",
              "    background-color: var(--hover-bg-color);\n",
              "    box-shadow: 0 1px 2px rgba(60, 64, 67, 0.3), 0 1px 3px 1px rgba(60, 64, 67, 0.15);\n",
              "    fill: var(--button-hover-fill-color);\n",
              "  }\n",
              "\n",
              "  .colab-df-quickchart-complete:disabled,\n",
              "  .colab-df-quickchart-complete:disabled:hover {\n",
              "    background-color: var(--disabled-bg-color);\n",
              "    fill: var(--disabled-fill-color);\n",
              "    box-shadow: none;\n",
              "  }\n",
              "\n",
              "  .colab-df-spinner {\n",
              "    border: 2px solid var(--fill-color);\n",
              "    border-color: transparent;\n",
              "    border-bottom-color: var(--fill-color);\n",
              "    animation:\n",
              "      spin 1s steps(1) infinite;\n",
              "  }\n",
              "\n",
              "  @keyframes spin {\n",
              "    0% {\n",
              "      border-color: transparent;\n",
              "      border-bottom-color: var(--fill-color);\n",
              "      border-left-color: var(--fill-color);\n",
              "    }\n",
              "    20% {\n",
              "      border-color: transparent;\n",
              "      border-left-color: var(--fill-color);\n",
              "      border-top-color: var(--fill-color);\n",
              "    }\n",
              "    30% {\n",
              "      border-color: transparent;\n",
              "      border-left-color: var(--fill-color);\n",
              "      border-top-color: var(--fill-color);\n",
              "      border-right-color: var(--fill-color);\n",
              "    }\n",
              "    40% {\n",
              "      border-color: transparent;\n",
              "      border-right-color: var(--fill-color);\n",
              "      border-top-color: var(--fill-color);\n",
              "    }\n",
              "    60% {\n",
              "      border-color: transparent;\n",
              "      border-right-color: var(--fill-color);\n",
              "    }\n",
              "    80% {\n",
              "      border-color: transparent;\n",
              "      border-right-color: var(--fill-color);\n",
              "      border-bottom-color: var(--fill-color);\n",
              "    }\n",
              "    90% {\n",
              "      border-color: transparent;\n",
              "      border-bottom-color: var(--fill-color);\n",
              "    }\n",
              "  }\n",
              "</style>\n",
              "\n",
              "  <script>\n",
              "    async function quickchart(key) {\n",
              "      const quickchartButtonEl =\n",
              "        document.querySelector('#' + key + ' button');\n",
              "      quickchartButtonEl.disabled = true;  // To prevent multiple clicks.\n",
              "      quickchartButtonEl.classList.add('colab-df-spinner');\n",
              "      try {\n",
              "        const charts = await google.colab.kernel.invokeFunction(\n",
              "            'suggestCharts', [key], {});\n",
              "      } catch (error) {\n",
              "        console.error('Error during call to suggestCharts:', error);\n",
              "      }\n",
              "      quickchartButtonEl.classList.remove('colab-df-spinner');\n",
              "      quickchartButtonEl.classList.add('colab-df-quickchart-complete');\n",
              "    }\n",
              "    (() => {\n",
              "      let quickchartButtonEl =\n",
              "        document.querySelector('#df-55494575-6b8a-46bc-bced-943835ccbcf8 button');\n",
              "      quickchartButtonEl.style.display =\n",
              "        google.colab.kernel.accessAllowed ? 'block' : 'none';\n",
              "    })();\n",
              "  </script>\n",
              "</div>\n",
              "\n",
              "    </div>\n",
              "  </div>\n"
            ],
            "application/vnd.google.colaboratory.intrinsic+json": {
              "type": "dataframe",
              "variable_name": "df0",
              "summary": "{\n  \"name\": \"df0\",\n  \"rows\": 10951,\n  \"fields\": [\n    {\n      \"column\": \"url\",\n      \"properties\": {\n        \"dtype\": \"string\",\n        \"num_unique_values\": 10950,\n        \"samples\": [\n          \"https://kasteelparkborn.nl/het-park/nieuws/2019/02/21/nieuwe-wasberen/\",\n          \"https://kasteelparkborn.nl/werken-bij/stages/\",\n          \"https://www.kasteeldehaar.nl/informatie-aan-over-trouwen-chinese/\"\n        ],\n        \"semantic_type\": \"\",\n        \"description\": \"\"\n      }\n    },\n    {\n      \"column\": \"text\",\n      \"properties\": {\n        \"dtype\": \"string\",\n        \"num_unique_values\": 8868,\n        \"samples\": [\n          \"Zonsopkomst Duno | Geldersch Landschap en Kasteelen\\nWe gaan vandaag vroeg op pad. We wandelen in het donker door het bos en zien het langzaam licht worden. We zorgen ervoor dat we op tijd op het Dunoplateau zijn om de zon boven Arnhem op te zien komen. Het moet dan wel helder weer zijn en niet bewolkt. Hopelijk beleven we magische momenten in het bos en op het plateau als de natuur langzaam ontwaakt en de stilte wordt verbroken. Deze wandeling wordt dit jaar elk kwartaal gehouden zodat we ook de verschillen in jaargetijde meemaken. Neem eventueel een klein zaklampje mee. Verder vertellen we nog wat over de historie en de natuur in het gebied.\\nVooraf online reserveren is noodzakelijk.\\nza. 23 november 2024\\n07.30 \\u2013 09.30 uur \\nVolwassenen 5,00 \\nKinderen 4 t/m 12 jaar 2,50 \\nDonateurs \\nDonateurs GLK Gratis \\nKinderen 4 t/m 12 jaar van donateurs GLK Gratis \\nOpenbaar vervoer\\nKijk op 9292.nl voor actuele reisinformatie.\\nToegangszandweg tot het Duno-plateau\\nIngang aan de Oude Oosterbeekseweg net voorbij de Middenlaan) (komende vanaf Oosterbeek) of vlak v\\u00f3\\u00f3r de Middenlaan (komende vanaf Doorwerth). Parkeren in de berm.\\nInformatie\\nPedro, 06 54 65 40 49\\nVanwege de onverharde paden is deze excursie minder geschikt voor mensen met een verminderde mobiliteit. Bekijk de mogelijkheden Gelderse natuur en erfgoed te bezoeken op Toegankelijk voor iedereen.\",\n          \"Legokasteel (gratis) - Muiderslot [EN]\\nHet Grootste LEGO\\u00a9 Winterkasteel \\nBouw je mee aan het grootste LEGO\\u00a9 Winterkasteel van Nederland? Elke dag in het kerstvakantie (23 dec 2023 t/m 7 jan 2024) nodigen we jong en oud tussen 11:00 en 15:00 uur uit om mee te bouwen, zodat we een enorm, wit kasteel \\u00edn ons kasteel hebben staan!\\nPraktische info;\\nGeschikt vanaf 8 jaar tot 99.\\nInloop activiteit. Schuif gezellig aan!\\nEr geldt geen toeslag, dus je kan gewoon meedoen met een entreebewijs voor het museum.\\nNatuurlijk mag je de hele dag op het kasteel en de tuinen verblijven voor en na de activiteit!\\nHet Legokasteel is op de zolder.\",\n          \"Kasteelpark Born - Dierenpark\\nKorting op uw bezoek aan Kasteelpark Born?\\nOnderstaande acties zijn geldig in 2024:\\nU ontvangt 15% korting op de entree.\\nJaarkaarthouders van parken aangesloten bij Dier en Park\\nKortingsbon Visit Zuid-Limburg (in de Wegwijzer)\\nDinsdagDeal van de ANWB\\nLidkaarthouders van Cosmodrome\\nAan de kassa toont u uw jaarkaart van het betreffende park en voldoet de verschuldigde entree. Online een kortingsticket reserveren is niet mogelijk.\\nWaardebonnen gemeente Sittard-Geleen\\nBij het Kasteelpark kunnen ook waardebonnen van de gemeente Sittard-Geleen worden ingeleverd. \\nJaarkaarthouders van Kasteelpark Born ontvangen op vertoon van hun jaarkaart korting bij onderstaande partners\\n1. Parken van Dier en Park\\nKasteelpark Born is aangesloten bij de vereniging Dier en Park. Met je jaarkaart ontvang je korting bij onderstaande parken. Kijk op de website van het park hoeveel korting je ontvangt.\\nNatuur Doe Zoo, Leens\\nWonderwereld, Ter Apel\\nZooBizar, Orvelte\\nHof van Eckberge, Eibergen\\nVlinders aan de Vliet, Leidschendam\\nFamiliepark Plaswijckpark, Rotterdam\\nTropical Zoo, Kwadendamme\\nDe Oliemeulen, Tilburg\\nBestZOO, Best\\nMondo Verde, Landgraaf\\nAlmere Jungle, Almere\\nNeem een kijkje op de website van Dier en Park om te zien waar in Nederland u de aangesloten parken kunt vinden.\\n2. Cosmodrome\\nAls jaarkaarthouder van Kasteelpark Born ontvang je 50% korting op de entreeprijs van het Cosmodrome in Genk (Belgi\\u00eb).\\nDeze actie is geldig van 2 januari 2023 t/m 31 december 2024.\"\n        ],\n        \"semantic_type\": \"\",\n        \"description\": \"\"\n      }\n    }\n  ]\n}"
            }
          },
          "metadata": {},
          "execution_count": 25
        }
      ],
      "source": [
        "# Import json data from Aipfy scraping into 4 separate dataframes\n",
        "df0=pd.read_json(gdrive_path+cc_list[0]+'_dataset_website-content-crawler.json')\n",
        "# select only two columns for analysis: url and text\n",
        "df0=df0[['url','text']]\n",
        "\n",
        "df1=pd.read_json(gdrive_path+cc_list[1]+'_dataset_website-content-crawler.json')\n",
        "# select only two columns for analysis: url and text\n",
        "df1=df1[['url','text']]\n",
        "\n",
        "df2=pd.read_json(gdrive_path+cc_list[2]+'_dataset_website-content-crawler.json')\n",
        "# select only two columns for analysis: url and text\n",
        "df2=df2[['url','text']]\n",
        "\n",
        "df3=pd.read_json(gdrive_path+cc_list[3]+'_dataset_website-content-crawler.json')\n",
        "# select only two columns for analysis: url and text\n",
        "df3=df3[['url','text']]\n",
        "\n",
        "df0.head()"
      ]
    },
    {
      "cell_type": "markdown",
      "source": [
        "Join all pages from a domain to an entry in the analysis. To do this, add a new column which will contain only the main domain name."
      ],
      "metadata": {
        "id": "Rr6hiPQ-4z5O"
      },
      "id": "Rr6hiPQ-4z5O"
    },
    {
      "cell_type": "code",
      "execution_count": 42,
      "id": "47db9deb-8836-47fb-9f74-28a023bcb5d7",
      "metadata": {
        "id": "47db9deb-8836-47fb-9f74-28a023bcb5d7"
      },
      "outputs": [],
      "source": [
        "# Add a new column 'domain' and fill it by applying the extract_main_domain function to the 'url' column\n",
        "\n",
        "# first, create a mapping of dataframes which could be addressed in a loop\n",
        "df_dict = {'0':df0, '1':df1, '2':df2, '3':df3}\n",
        "\n",
        "# then, loop through the df_dict to update each dataframe\n",
        "for k, v in df_dict.items():\n",
        "  cc_column = cc_list[int(k[-1])]+' domains'\n",
        "  cc = cc_list[int(k[-1])]\n",
        "  # print(cc_column, cc)\n",
        "  urls = pd.read_csv(gdrive_path+cc_list[int(k[-1])]+'_urls.csv')[cc_column].values.tolist()\n",
        "  domains = {extract_main_domain(url) for url in urls if extract_main_domain(url) is not None}\n",
        "  matching_links = [link for link in v.url if extract_main_domain(link) in domains]\n",
        "  # update the dataframe\n",
        "  v['domain'] = v['url'].apply(extract_main_domain)"
      ]
    },
    {
      "cell_type": "code",
      "source": [
        "# check one of the dataframes\n",
        "df1.head()"
      ],
      "metadata": {
        "id": "NnGrMALwClPC",
        "outputId": "b90087e8-2af2-49d0-af4c-445567a8ceb2",
        "colab": {
          "base_uri": "https://localhost:8080/",
          "height": 206
        }
      },
      "id": "NnGrMALwClPC",
      "execution_count": 43,
      "outputs": [
        {
          "output_type": "execute_result",
          "data": {
            "text/plain": [
              "                                                 url  \\\n",
              "0       https://www.whittingtoncastle.co.uk/visit-us   \n",
              "1  https://www.whittingtoncastle.co.uk/kitchenthe...   \n",
              "2           https://www.whittingtoncastle.co.uk/home   \n",
              "3  https://www.whittingtoncastle.co.uk/weddings-w...   \n",
              "4         https://www.whittingtoncastle.co.uk/events   \n",
              "\n",
              "                                                text                  domain  \n",
              "0  Visit Us — Whittington Castle\\nOn the Welsh bo...  hittingtoncastle.co.uk  \n",
              "1  Kitchen@theCastle — Whittington Castle\\nAt Whi...  hittingtoncastle.co.uk  \n",
              "2  Whittington Castle\\nA stunning 12th century ca...  hittingtoncastle.co.uk  \n",
              "3  Get in Touch — Whittington CastlereCAPTCHA\\nWe...  hittingtoncastle.co.uk  \n",
              "4  Events — Whittington Castle\\nUpcoming events\\n...  hittingtoncastle.co.uk  "
            ],
            "text/html": [
              "\n",
              "  <div id=\"df-bbf5852e-a185-4aa9-a652-9e5aab19e8e2\" class=\"colab-df-container\">\n",
              "    <div>\n",
              "<style scoped>\n",
              "    .dataframe tbody tr th:only-of-type {\n",
              "        vertical-align: middle;\n",
              "    }\n",
              "\n",
              "    .dataframe tbody tr th {\n",
              "        vertical-align: top;\n",
              "    }\n",
              "\n",
              "    .dataframe thead th {\n",
              "        text-align: right;\n",
              "    }\n",
              "</style>\n",
              "<table border=\"1\" class=\"dataframe\">\n",
              "  <thead>\n",
              "    <tr style=\"text-align: right;\">\n",
              "      <th></th>\n",
              "      <th>url</th>\n",
              "      <th>text</th>\n",
              "      <th>domain</th>\n",
              "    </tr>\n",
              "  </thead>\n",
              "  <tbody>\n",
              "    <tr>\n",
              "      <th>0</th>\n",
              "      <td>https://www.whittingtoncastle.co.uk/visit-us</td>\n",
              "      <td>Visit Us — Whittington Castle\\nOn the Welsh bo...</td>\n",
              "      <td>hittingtoncastle.co.uk</td>\n",
              "    </tr>\n",
              "    <tr>\n",
              "      <th>1</th>\n",
              "      <td>https://www.whittingtoncastle.co.uk/kitchenthe...</td>\n",
              "      <td>Kitchen@theCastle — Whittington Castle\\nAt Whi...</td>\n",
              "      <td>hittingtoncastle.co.uk</td>\n",
              "    </tr>\n",
              "    <tr>\n",
              "      <th>2</th>\n",
              "      <td>https://www.whittingtoncastle.co.uk/home</td>\n",
              "      <td>Whittington Castle\\nA stunning 12th century ca...</td>\n",
              "      <td>hittingtoncastle.co.uk</td>\n",
              "    </tr>\n",
              "    <tr>\n",
              "      <th>3</th>\n",
              "      <td>https://www.whittingtoncastle.co.uk/weddings-w...</td>\n",
              "      <td>Get in Touch — Whittington CastlereCAPTCHA\\nWe...</td>\n",
              "      <td>hittingtoncastle.co.uk</td>\n",
              "    </tr>\n",
              "    <tr>\n",
              "      <th>4</th>\n",
              "      <td>https://www.whittingtoncastle.co.uk/events</td>\n",
              "      <td>Events — Whittington Castle\\nUpcoming events\\n...</td>\n",
              "      <td>hittingtoncastle.co.uk</td>\n",
              "    </tr>\n",
              "  </tbody>\n",
              "</table>\n",
              "</div>\n",
              "    <div class=\"colab-df-buttons\">\n",
              "\n",
              "  <div class=\"colab-df-container\">\n",
              "    <button class=\"colab-df-convert\" onclick=\"convertToInteractive('df-bbf5852e-a185-4aa9-a652-9e5aab19e8e2')\"\n",
              "            title=\"Convert this dataframe to an interactive table.\"\n",
              "            style=\"display:none;\">\n",
              "\n",
              "  <svg xmlns=\"http://www.w3.org/2000/svg\" height=\"24px\" viewBox=\"0 -960 960 960\">\n",
              "    <path d=\"M120-120v-720h720v720H120Zm60-500h600v-160H180v160Zm220 220h160v-160H400v160Zm0 220h160v-160H400v160ZM180-400h160v-160H180v160Zm440 0h160v-160H620v160ZM180-180h160v-160H180v160Zm440 0h160v-160H620v160Z\"/>\n",
              "  </svg>\n",
              "    </button>\n",
              "\n",
              "  <style>\n",
              "    .colab-df-container {\n",
              "      display:flex;\n",
              "      gap: 12px;\n",
              "    }\n",
              "\n",
              "    .colab-df-convert {\n",
              "      background-color: #E8F0FE;\n",
              "      border: none;\n",
              "      border-radius: 50%;\n",
              "      cursor: pointer;\n",
              "      display: none;\n",
              "      fill: #1967D2;\n",
              "      height: 32px;\n",
              "      padding: 0 0 0 0;\n",
              "      width: 32px;\n",
              "    }\n",
              "\n",
              "    .colab-df-convert:hover {\n",
              "      background-color: #E2EBFA;\n",
              "      box-shadow: 0px 1px 2px rgba(60, 64, 67, 0.3), 0px 1px 3px 1px rgba(60, 64, 67, 0.15);\n",
              "      fill: #174EA6;\n",
              "    }\n",
              "\n",
              "    .colab-df-buttons div {\n",
              "      margin-bottom: 4px;\n",
              "    }\n",
              "\n",
              "    [theme=dark] .colab-df-convert {\n",
              "      background-color: #3B4455;\n",
              "      fill: #D2E3FC;\n",
              "    }\n",
              "\n",
              "    [theme=dark] .colab-df-convert:hover {\n",
              "      background-color: #434B5C;\n",
              "      box-shadow: 0px 1px 3px 1px rgba(0, 0, 0, 0.15);\n",
              "      filter: drop-shadow(0px 1px 2px rgba(0, 0, 0, 0.3));\n",
              "      fill: #FFFFFF;\n",
              "    }\n",
              "  </style>\n",
              "\n",
              "    <script>\n",
              "      const buttonEl =\n",
              "        document.querySelector('#df-bbf5852e-a185-4aa9-a652-9e5aab19e8e2 button.colab-df-convert');\n",
              "      buttonEl.style.display =\n",
              "        google.colab.kernel.accessAllowed ? 'block' : 'none';\n",
              "\n",
              "      async function convertToInteractive(key) {\n",
              "        const element = document.querySelector('#df-bbf5852e-a185-4aa9-a652-9e5aab19e8e2');\n",
              "        const dataTable =\n",
              "          await google.colab.kernel.invokeFunction('convertToInteractive',\n",
              "                                                    [key], {});\n",
              "        if (!dataTable) return;\n",
              "\n",
              "        const docLinkHtml = 'Like what you see? Visit the ' +\n",
              "          '<a target=\"_blank\" href=https://colab.research.google.com/notebooks/data_table.ipynb>data table notebook</a>'\n",
              "          + ' to learn more about interactive tables.';\n",
              "        element.innerHTML = '';\n",
              "        dataTable['output_type'] = 'display_data';\n",
              "        await google.colab.output.renderOutput(dataTable, element);\n",
              "        const docLink = document.createElement('div');\n",
              "        docLink.innerHTML = docLinkHtml;\n",
              "        element.appendChild(docLink);\n",
              "      }\n",
              "    </script>\n",
              "  </div>\n",
              "\n",
              "\n",
              "<div id=\"df-a00444cd-3c9c-4f80-aef8-6f115acb74fd\">\n",
              "  <button class=\"colab-df-quickchart\" onclick=\"quickchart('df-a00444cd-3c9c-4f80-aef8-6f115acb74fd')\"\n",
              "            title=\"Suggest charts\"\n",
              "            style=\"display:none;\">\n",
              "\n",
              "<svg xmlns=\"http://www.w3.org/2000/svg\" height=\"24px\"viewBox=\"0 0 24 24\"\n",
              "     width=\"24px\">\n",
              "    <g>\n",
              "        <path d=\"M19 3H5c-1.1 0-2 .9-2 2v14c0 1.1.9 2 2 2h14c1.1 0 2-.9 2-2V5c0-1.1-.9-2-2-2zM9 17H7v-7h2v7zm4 0h-2V7h2v10zm4 0h-2v-4h2v4z\"/>\n",
              "    </g>\n",
              "</svg>\n",
              "  </button>\n",
              "\n",
              "<style>\n",
              "  .colab-df-quickchart {\n",
              "      --bg-color: #E8F0FE;\n",
              "      --fill-color: #1967D2;\n",
              "      --hover-bg-color: #E2EBFA;\n",
              "      --hover-fill-color: #174EA6;\n",
              "      --disabled-fill-color: #AAA;\n",
              "      --disabled-bg-color: #DDD;\n",
              "  }\n",
              "\n",
              "  [theme=dark] .colab-df-quickchart {\n",
              "      --bg-color: #3B4455;\n",
              "      --fill-color: #D2E3FC;\n",
              "      --hover-bg-color: #434B5C;\n",
              "      --hover-fill-color: #FFFFFF;\n",
              "      --disabled-bg-color: #3B4455;\n",
              "      --disabled-fill-color: #666;\n",
              "  }\n",
              "\n",
              "  .colab-df-quickchart {\n",
              "    background-color: var(--bg-color);\n",
              "    border: none;\n",
              "    border-radius: 50%;\n",
              "    cursor: pointer;\n",
              "    display: none;\n",
              "    fill: var(--fill-color);\n",
              "    height: 32px;\n",
              "    padding: 0;\n",
              "    width: 32px;\n",
              "  }\n",
              "\n",
              "  .colab-df-quickchart:hover {\n",
              "    background-color: var(--hover-bg-color);\n",
              "    box-shadow: 0 1px 2px rgba(60, 64, 67, 0.3), 0 1px 3px 1px rgba(60, 64, 67, 0.15);\n",
              "    fill: var(--button-hover-fill-color);\n",
              "  }\n",
              "\n",
              "  .colab-df-quickchart-complete:disabled,\n",
              "  .colab-df-quickchart-complete:disabled:hover {\n",
              "    background-color: var(--disabled-bg-color);\n",
              "    fill: var(--disabled-fill-color);\n",
              "    box-shadow: none;\n",
              "  }\n",
              "\n",
              "  .colab-df-spinner {\n",
              "    border: 2px solid var(--fill-color);\n",
              "    border-color: transparent;\n",
              "    border-bottom-color: var(--fill-color);\n",
              "    animation:\n",
              "      spin 1s steps(1) infinite;\n",
              "  }\n",
              "\n",
              "  @keyframes spin {\n",
              "    0% {\n",
              "      border-color: transparent;\n",
              "      border-bottom-color: var(--fill-color);\n",
              "      border-left-color: var(--fill-color);\n",
              "    }\n",
              "    20% {\n",
              "      border-color: transparent;\n",
              "      border-left-color: var(--fill-color);\n",
              "      border-top-color: var(--fill-color);\n",
              "    }\n",
              "    30% {\n",
              "      border-color: transparent;\n",
              "      border-left-color: var(--fill-color);\n",
              "      border-top-color: var(--fill-color);\n",
              "      border-right-color: var(--fill-color);\n",
              "    }\n",
              "    40% {\n",
              "      border-color: transparent;\n",
              "      border-right-color: var(--fill-color);\n",
              "      border-top-color: var(--fill-color);\n",
              "    }\n",
              "    60% {\n",
              "      border-color: transparent;\n",
              "      border-right-color: var(--fill-color);\n",
              "    }\n",
              "    80% {\n",
              "      border-color: transparent;\n",
              "      border-right-color: var(--fill-color);\n",
              "      border-bottom-color: var(--fill-color);\n",
              "    }\n",
              "    90% {\n",
              "      border-color: transparent;\n",
              "      border-bottom-color: var(--fill-color);\n",
              "    }\n",
              "  }\n",
              "</style>\n",
              "\n",
              "  <script>\n",
              "    async function quickchart(key) {\n",
              "      const quickchartButtonEl =\n",
              "        document.querySelector('#' + key + ' button');\n",
              "      quickchartButtonEl.disabled = true;  // To prevent multiple clicks.\n",
              "      quickchartButtonEl.classList.add('colab-df-spinner');\n",
              "      try {\n",
              "        const charts = await google.colab.kernel.invokeFunction(\n",
              "            'suggestCharts', [key], {});\n",
              "      } catch (error) {\n",
              "        console.error('Error during call to suggestCharts:', error);\n",
              "      }\n",
              "      quickchartButtonEl.classList.remove('colab-df-spinner');\n",
              "      quickchartButtonEl.classList.add('colab-df-quickchart-complete');\n",
              "    }\n",
              "    (() => {\n",
              "      let quickchartButtonEl =\n",
              "        document.querySelector('#df-a00444cd-3c9c-4f80-aef8-6f115acb74fd button');\n",
              "      quickchartButtonEl.style.display =\n",
              "        google.colab.kernel.accessAllowed ? 'block' : 'none';\n",
              "    })();\n",
              "  </script>\n",
              "</div>\n",
              "\n",
              "    </div>\n",
              "  </div>\n"
            ],
            "application/vnd.google.colaboratory.intrinsic+json": {
              "type": "dataframe",
              "variable_name": "df1",
              "summary": "{\n  \"name\": \"df1\",\n  \"rows\": 6942,\n  \"fields\": [\n    {\n      \"column\": \"url\",\n      \"properties\": {\n        \"dtype\": \"string\",\n        \"num_unique_values\": 6942,\n        \"samples\": [\n          \"https://www.newark-sherwooddc.gov.uk/latest-news/2022/february/ollerton-office-gets-brand-new-refurbishment/\",\n          \"https://www.hants.gov.uk/educationandlearning/schoolholidays\",\n          \"https://www.hants.gov.uk/aboutthecouncil/equality/equality-impact-assessment\"\n        ],\n        \"semantic_type\": \"\",\n        \"description\": \"\"\n      }\n    },\n    {\n      \"column\": \"text\",\n      \"properties\": {\n        \"dtype\": \"string\",\n        \"num_unique_values\": 6223,\n        \"samples\": [\n          \"Hampshire Prosperity Partnership | Business and economy\\nThe role of the Hampshire Prosperity Partnership and the Board is to work collectively across sectors and geography to the benefit of the regional economy.\\nThe Partnership is governed by a Board which has been established through an open recruitment process and is made up of local authority leaders, businesses, business representative organisations and education. The majority is made of business representatives.\",\n          \"Haddon Hall - CharitiesCharities - Haddon Hall\\nWe are delighted to invite charities to apply for support each year, with a particular focus on those close to home.\\nHaddon Hall receives many letters each year from charities requesting donations and gifts to help raise money for their causes. Each correspondence is read carefully, and we aim to contribute wherever we can.\\nWe invite charities to apply for support from Haddon Hall by writing to: Haddon Hall, Estate Office, Haddon Hall, Bakewell, Derbyshire, DE45 1LA \\nWhile we aim to help as many causes and charities as we can, please be aware that unfortunately we cannot guarantee a donation upon application, and the decision rests entirely upon the discretion of the family and Trustees of Haddon Hall.\\nWorthy causes we have recently supported include:\\nWeston Park Hospital\\nBluebell Wood Children\\u2019s Hospice\\nThe Royal British Legion\\nHelen\\u2019s Trust\",\n          \"Account unlinked | Hampshire County CouncilExternal Link IconCookie Control\\nClose \\u2716\\nServices \\nSearch Hantsweb services and sites \\nSign in \\nRegister \\nSign in Register\"\n        ],\n        \"semantic_type\": \"\",\n        \"description\": \"\"\n      }\n    },\n    {\n      \"column\": \"domain\",\n      \"properties\": {\n        \"dtype\": \"category\",\n        \"num_unique_values\": 70,\n        \"samples\": [\n          \"strawberryhillhouse.org.uk\",\n          \"hittingtoncastle.co.uk\",\n          \"raby.co.uk\"\n        ],\n        \"semantic_type\": \"\",\n        \"description\": \"\"\n      }\n    }\n  ]\n}"
            }
          },
          "metadata": {},
          "execution_count": 43
        }
      ]
    },
    {
      "cell_type": "markdown",
      "id": "08144921-d7be-45ed-8795-1c085fb2640b",
      "metadata": {
        "id": "08144921-d7be-45ed-8795-1c085fb2640b"
      },
      "source": [
        "## Compare collocations across corpora"
      ]
    },
    {
      "cell_type": "markdown",
      "source": [
        "#### Preparing the text (stopwords, lemmatization, etc)"
      ],
      "metadata": {
        "id": "inCepASp67ru"
      },
      "id": "inCepASp67ru"
    },
    {
      "cell_type": "code",
      "source": [
        "# make all stopword files stored in github available in this notebook:\n",
        "!wget 'https://raw.githubusercontent.com/jazoza/cultural-data-analysis/refs/heads/main/stopwords_archive/NL.txt'\n",
        "!wget 'https://raw.githubusercontent.com/jazoza/cultural-data-analysis/refs/heads/main/stopwords_archive/UK.txt'\n",
        "!wget 'https://raw.githubusercontent.com/jazoza/cultural-data-analysis/refs/heads/main/stopwords_archive/DE.txt'\n",
        "!wget 'https://raw.githubusercontent.com/jazoza/cultural-data-analysis/refs/heads/main/stopwords_archive/FR.txt'"
      ],
      "metadata": {
        "id": "rKDwducX7kqD",
        "outputId": "1b67976b-4706-4e16-b8f5-209efedb2bdb",
        "colab": {
          "base_uri": "https://localhost:8080/"
        }
      },
      "id": "rKDwducX7kqD",
      "execution_count": 44,
      "outputs": [
        {
          "output_type": "stream",
          "name": "stdout",
          "text": [
            "--2024-12-08 11:34:38--  https://raw.githubusercontent.com/jazoza/cultural-data-analysis/refs/heads/main/stopwords_archive/NL.txt\n",
            "Resolving raw.githubusercontent.com (raw.githubusercontent.com)... 185.199.108.133, 185.199.109.133, 185.199.110.133, ...\n",
            "Connecting to raw.githubusercontent.com (raw.githubusercontent.com)|185.199.108.133|:443... connected.\n",
            "HTTP request sent, awaiting response... 200 OK\n",
            "Length: 453 [text/plain]\n",
            "Saving to: ‘NL.txt’\n",
            "\n",
            "NL.txt              100%[===================>]     453  --.-KB/s    in 0s      \n",
            "\n",
            "2024-12-08 11:34:38 (7.06 MB/s) - ‘NL.txt’ saved [453/453]\n",
            "\n",
            "--2024-12-08 11:34:38--  https://raw.githubusercontent.com/jazoza/cultural-data-analysis/refs/heads/main/stopwords_archive/UK.txt\n",
            "Resolving raw.githubusercontent.com (raw.githubusercontent.com)... 185.199.108.133, 185.199.109.133, 185.199.110.133, ...\n",
            "Connecting to raw.githubusercontent.com (raw.githubusercontent.com)|185.199.108.133|:443... connected.\n",
            "HTTP request sent, awaiting response... 200 OK\n",
            "Length: 7678 (7.5K) [text/plain]\n",
            "Saving to: ‘UK.txt’\n",
            "\n",
            "UK.txt              100%[===================>]   7.50K  --.-KB/s    in 0s      \n",
            "\n",
            "2024-12-08 11:34:39 (37.4 MB/s) - ‘UK.txt’ saved [7678/7678]\n",
            "\n",
            "--2024-12-08 11:34:39--  https://raw.githubusercontent.com/jazoza/cultural-data-analysis/refs/heads/main/stopwords_archive/DE.txt\n",
            "Resolving raw.githubusercontent.com (raw.githubusercontent.com)... 185.199.110.133, 185.199.111.133, 185.199.108.133, ...\n",
            "Connecting to raw.githubusercontent.com (raw.githubusercontent.com)|185.199.110.133|:443... connected.\n",
            "HTTP request sent, awaiting response... 200 OK\n",
            "Length: 1363 (1.3K) [text/plain]\n",
            "Saving to: ‘DE.txt’\n",
            "\n",
            "DE.txt              100%[===================>]   1.33K  --.-KB/s    in 0s      \n",
            "\n",
            "2024-12-08 11:34:39 (67.2 MB/s) - ‘DE.txt’ saved [1363/1363]\n",
            "\n",
            "--2024-12-08 11:34:39--  https://raw.githubusercontent.com/jazoza/cultural-data-analysis/refs/heads/main/stopwords_archive/FR.txt\n",
            "Resolving raw.githubusercontent.com (raw.githubusercontent.com)... 185.199.108.133, 185.199.109.133, 185.199.110.133, ...\n",
            "Connecting to raw.githubusercontent.com (raw.githubusercontent.com)|185.199.108.133|:443... connected.\n",
            "HTTP request sent, awaiting response... 200 OK\n",
            "Length: 1345 (1.3K) [text/plain]\n",
            "Saving to: ‘FR.txt’\n",
            "\n",
            "FR.txt              100%[===================>]   1.31K  --.-KB/s    in 0s      \n",
            "\n",
            "2024-12-08 11:34:39 (65.4 MB/s) - ‘FR.txt’ saved [1345/1345]\n",
            "\n"
          ]
        }
      ]
    },
    {
      "cell_type": "code",
      "source": [
        "# load a list of 'stopwords' in the language you are analyzing\n",
        "def get_stopwords_list(stop_file_path):\n",
        "    \"\"\"load stop words \"\"\"\n",
        "    with open(stop_file_path, 'r', encoding=\"utf-8\") as f:\n",
        "        stopwords = f.readlines()\n",
        "        stop_set = set(m.strip() for m in stopwords)\n",
        "        return list(frozenset(stop_set))\n",
        "\n",
        "sw_dict = {}\n",
        "for i, cc in enumerate(cc_list):\n",
        "  stopwords_path = cc + \".txt\"\n",
        "  sw_dict[str(i)] = get_stopwords_list(stopwords_path)\n",
        "\n",
        "sw0 = sw_dict['0']\n",
        "sw1 = sw_dict['1']\n",
        "sw2 = sw_dict['2']\n",
        "sw3 = sw_dict['3']"
      ],
      "metadata": {
        "id": "_bCxFJzY69_b"
      },
      "id": "_bCxFJzY69_b",
      "execution_count": 49,
      "outputs": []
    },
    {
      "cell_type": "code",
      "source": [
        "# extend the stopwords list with any other words you want to exclude from analysis\n",
        "special_stop_words = ['nbsp', ' ', '', '—', '\\’s', 'ii', 'iii', 'iiii']"
      ],
      "metadata": {
        "id": "HgNkZORH75QF"
      },
      "id": "HgNkZORH75QF",
      "execution_count": 50,
      "outputs": []
    },
    {
      "cell_type": "code",
      "source": [
        "#function to remove non-ascii characters\n",
        "def _removeNonAscii(s): return \"\".join(i for i in s if ord(i)<128)"
      ],
      "metadata": {
        "id": "0SuPUQ_4VrfT"
      },
      "id": "0SuPUQ_4VrfT",
      "execution_count": 51,
      "outputs": []
    },
    {
      "cell_type": "code",
      "source": [
        "# search for words from this list or use another list\n",
        "search_words = ['kasteel', 'castle', 'château', 'Schloss']"
      ],
      "metadata": {
        "id": "ui3wC6xHF1jp"
      },
      "execution_count": 52,
      "outputs": [],
      "id": "ui3wC6xHF1jp"
    },
    {
      "cell_type": "code",
      "source": [
        "# SCI-KIT method, produces lists of co-occurencies for specific terms\n",
        "def vectorize_text(df):\n",
        "    vectorizer = CountVectorizer()\n",
        "    X = vectorizer.fit_transform(df['text'])\n",
        "    return X, vectorizer\n",
        "\n",
        "def find_collocations(text, target_words):\n",
        "    words = text.split()\n",
        "    collocations = []\n",
        "    for i in range(len(words) - 1):\n",
        "        if words[i] in target_words:\n",
        "            collocations.append((words[i], words[i + 1]))\n",
        "        if words[i + 1] in target_words:\n",
        "            collocations.append((words[i + 1], words[i]))\n",
        "    return collocations\n",
        "\n",
        "def get_frequent_collocations(df, most_frequent_words):\n",
        "    collocations = []\n",
        "    for text in df['text']:\n",
        "        collocations.extend(find_collocations(text, most_frequent_words))\n",
        "    collocation_counts = Counter(collocations)\n",
        "    frequent_collocations = {}\n",
        "    for word in most_frequent_words:\n",
        "        word_collocations = {collocation: count for collocation, count in collocation_counts.items() if word in collocation}\n",
        "        frequent_collocations[word] = dict(islice(Counter(word_collocations).most_common(20), 20))\n",
        "    return frequent_collocations\n",
        "\n",
        "def analyze_word_collocations(df):\n",
        "    X, vectorizer = vectorize_text(df)\n",
        "    most_frequent_words = search_words\n",
        "    frequent_collocations = get_frequent_collocations(df, most_frequent_words)\n",
        "    return frequent_collocations"
      ],
      "metadata": {
        "id": "Otn4h0rRF1jp"
      },
      "execution_count": 53,
      "outputs": [],
      "id": "Otn4h0rRF1jp"
    },
    {
      "cell_type": "code",
      "execution_count": 54,
      "metadata": {
        "id": "7zQFrVCOF1jp"
      },
      "outputs": [],
      "source": [
        "for k,v in df_dict.items():\n",
        "  collocations = analyze_word_collocations(v)"
      ],
      "id": "7zQFrVCOF1jp"
    },
    {
      "cell_type": "code",
      "execution_count": 55,
      "metadata": {
        "id": "uOQPWQ6pF1jq",
        "outputId": "af129134-2026-485e-bf1c-6e0fcb12ceef",
        "colab": {
          "base_uri": "https://localhost:8080/"
        }
      },
      "outputs": [
        {
          "output_type": "stream",
          "name": "stdout",
          "text": [
            "|    | Word    | Collocation       |   Count |\n",
            "|---:|:--------|:------------------|--------:|\n",
            "|  0 | kasteel | het               |     325 |\n",
            "|  1 | kasteel | en                |      40 |\n",
            "|  2 | kasteel | in                |      19 |\n",
            "|  3 | kasteel | Het               |      17 |\n",
            "|  4 | kasteel | De                |      16 |\n",
            "|  5 | kasteel | is                |      13 |\n",
            "|  6 | kasteel | ons               |      11 |\n",
            "|  7 | kasteel | met               |       9 |\n",
            "|  8 | kasteel | een               |       9 |\n",
            "|  9 | kasteel | verlaten          |       7 |\n",
            "| 10 | kasteel | te                |       7 |\n",
            "| 11 | kasteel | niet              |       7 |\n",
            "| 12 | kasteel | op                |       6 |\n",
            "| 13 | kasteel | van               |       5 |\n",
            "| 14 | kasteel | de                |       4 |\n",
            "| 15 | kasteel | staan.            |       4 |\n",
            "| 16 | kasteel | maar              |       4 |\n",
            "| 17 | kasteel | zijn              |       4 |\n",
            "| 18 | kasteel | waar              |       4 |\n",
            "| 19 | kasteel | aan               |       4 |\n",
            "| 20 | castle  | the               |     584 |\n",
            "| 21 | castle  | The               |     158 |\n",
            "| 22 | castle  | of                |     117 |\n",
            "| 23 | castle  | and               |      91 |\n",
            "| 24 | castle  | Haut-Koenigsbourg |      77 |\n",
            "| 25 | castle  | is                |      71 |\n",
            "| 26 | castle  | in                |      61 |\n",
            "| 27 | castle  | was               |      46 |\n",
            "| 28 | castle  | !                 |      39 |\n",
            "| 29 | castle  | -                 |      33 |\n",
            "| 30 | castle  | opens             |      32 |\n",
            "| 31 | castle  | to                |      26 |\n",
            "| 32 | castle  | at                |      25 |\n",
            "| 33 | castle  | Publish           |      25 |\n",
            "| 34 | castle  | A                 |      21 |\n",
            "| 35 | castle  | a                 |      21 |\n",
            "| 36 | castle  | fortified         |      19 |\n",
            "| 37 | castle  | with              |      16 |\n",
            "| 38 | castle  | has               |      16 |\n",
            "| 39 | castle  | :                 |      14 |\n",
            "| 40 | château | du                |    7100 |\n",
            "| 41 | château | de                |    2979 |\n",
            "| 42 | château | le                |    2676 |\n",
            "| 43 | château | au                |    2406 |\n",
            "| 44 | château | Le                |    1651 |\n",
            "| 45 | château | royal             |    1611 |\n",
            "| 46 | château | et                |     949 |\n",
            "| 47 | château | est               |     498 |\n",
            "| 48 | château | en                |     485 |\n",
            "| 49 | château | privilégiant      |     429 |\n",
            "| 50 | château | :                 |     371 |\n",
            "| 51 | château | Un                |     347 |\n",
            "| 52 | château | à                 |     327 |\n",
            "| 53 | château | un                |     326 |\n",
            "| 54 | château | !                 |     325 |\n",
            "| 55 | château | the               |     317 |\n",
            "| 56 | château | sous              |     210 |\n",
            "| 57 | château | fort              |     205 |\n",
            "| 58 | château | pour              |     182 |\n",
            "| 59 | château | des               |     182 |\n",
            "| 60 | Schloss | das               |      27 |\n",
            "| 61 | Schloss | von               |      20 |\n",
            "| 62 | Schloss | Das               |      13 |\n",
            "| 63 | Schloss | dem               |      10 |\n",
            "| 64 | Schloss | Chambord          |       9 |\n",
            "| 65 | Schloss | und               |       8 |\n",
            "| 66 | Schloss | im                |       7 |\n",
            "| 67 | Schloss | zu                |       5 |\n",
            "| 68 | Schloss | zum               |       5 |\n",
            "| 69 | Schloss | sein              |       4 |\n",
            "| 70 | Schloss | in                |       4 |\n",
            "| 71 | Schloss | -                 |       3 |\n",
            "| 72 | Schloss | vom               |       3 |\n",
            "| 73 | Schloss | entfernt          |       3 |\n",
            "| 74 | Schloss | auf               |       3 |\n",
            "| 75 | Schloss | erlaubt           |       2 |\n",
            "| 76 | Schloss | \"Das              |       2 |\n",
            "| 77 | Schloss | der               |       2 |\n",
            "| 78 | Schloss | verlaufen.        |       2 |\n",
            "| 79 | Schloss | einen             |       2 |\n"
          ]
        }
      ],
      "source": [
        "data = []\n",
        "for word, colloc_dict in collocations.items():\n",
        "   for collocation, count in colloc_dict.items():\n",
        "       #collocation_str = ' '.join(collocation)  # Join collocation words into a single string\n",
        "       data.append([word, collocation[1], count])\n",
        "\n",
        "collocations_df = pd.DataFrame(data, columns=['Word', 'Collocation', 'Count'])\n",
        "print(collocations_df.to_markdown(index=True))"
      ],
      "id": "uOQPWQ6pF1jq"
    },
    {
      "cell_type": "markdown",
      "source": [
        "## Topic Modeling\n",
        "\n",
        "Use [Latent-dirichlet allocation](https://en.wikipedia.org/wiki/Latent_Dirichlet_allocation) to extract topics from the text based on a statistical model"
      ],
      "metadata": {
        "id": "TF6gJ1PpgrG8"
      },
      "id": "TF6gJ1PpgrG8"
    },
    {
      "cell_type": "code",
      "source": [
        "from sklearn.decomposition import NMF, LatentDirichletAllocation, TruncatedSVD\n",
        "\n",
        "NUM_TOPICS = 10\n",
        "\n",
        "# data to work with: list of tweets\n",
        "documents = df['text'].tolist()\n",
        "\n",
        "vectorizer = CountVectorizer(min_df=5, max_df=0.9, stop_words=stopwords_ext, lowercase=True, token_pattern='[a-zA-Z\\-][a-zA-Z\\-]{2,}')\n",
        "documents_vectorized = vectorizer.fit_transform(documents)\n",
        "# Build a Latent Dirichlet Allocation Model\n",
        "lda_model = LatentDirichletAllocation(n_components=NUM_TOPICS, max_iter=10, learning_method='online')\n",
        "lda_Z = lda_model.fit_transform(documents_vectorized)\n",
        "print(lda_Z.shape)  # (NO_DOCUMENTS, NO_TOPICS)\n",
        "(393104, 10)\n",
        "def print_topics(model, vectorizer, top_n=10):\n",
        "    for idx, topic in enumerate(model.components_):\n",
        "        print(\"Topic %d:\" % (idx))\n",
        "        print([(vectorizer.get_feature_names_out()[i], topic[i])\n",
        "                        for i in topic.argsort()[:-top_n - 1:-1]])\n",
        "\n",
        "print(\"LDA Model:\")\n",
        "print_topics(lda_model, vectorizer)"
      ],
      "metadata": {
        "id": "LX_B4pBbmJ7g"
      },
      "id": "LX_B4pBbmJ7g",
      "execution_count": null,
      "outputs": []
    },
    {
      "cell_type": "code",
      "source": [
        "from sklearn.decomposition import LatentDirichletAllocation\n",
        "def display_topics(H, W, feature_names, documents, no_top_words, no_top_documents):\n",
        "    for topic_idx, topic in enumerate(H):\n",
        "        print(f\"Topic {topic_idx}:\")\n",
        "        print(\" \".join([feature_names[i] for i in topic.argsort()[:-no_top_words - 1:-1]]))\n",
        "\n",
        "documents = df['text'].tolist()\n",
        "\n",
        "vectorizer = CountVectorizer(max_df=0.95, min_df=2, max_features=1000, stop_words=stopwords_ext) # Modify stopwords if needed\n",
        "dtm = vectorizer.fit_transform(documents)\n",
        "\n",
        "num_topics = 10\n",
        "lda = LatentDirichletAllocation(n_components=num_topics, random_state=0)\n",
        "lda.fit(dtm)\n",
        "\n",
        "\n",
        "no_top_words = 10\n",
        "no_top_documents = 10\n",
        "\n",
        "display_topics(lda.components_, lda.transform(dtm), vectorizer.get_feature_names_out(), documents, no_top_words, no_top_documents)"
      ],
      "metadata": {
        "id": "y0V0l_03ouQW"
      },
      "id": "y0V0l_03ouQW",
      "execution_count": null,
      "outputs": []
    },
    {
      "cell_type": "markdown",
      "source": [
        "#### Visualize topics"
      ],
      "metadata": {
        "id": "8WPGBwAnqDEU"
      },
      "id": "8WPGBwAnqDEU"
    },
    {
      "cell_type": "code",
      "source": [
        "from bokeh.io import push_notebook, show, output_notebook\n",
        "from bokeh.plotting import figure\n",
        "from bokeh.models import ColumnDataSource, LabelSet\n",
        "from bokeh.io import output_notebook\n",
        "output_notebook()\n",
        "\n",
        "from sklearn.decomposition import TruncatedSVD\n",
        "\n",
        "documents_vectorized = vectorizer.fit_transform(documents)\n",
        "# plotting documents in 2D\n",
        "svd = TruncatedSVD(n_components=20)\n",
        "documents_2d = svd.fit_transform(documents_vectorized)\n",
        "\n",
        "bok_df = pd.DataFrame(columns=['x', 'y', 'document'])\n",
        "bok_df['x'], bok_df['y'], bok_df['document'] = documents_2d[:,0], documents_2d[:,1], range(len(documents))\n",
        "\n",
        "source = ColumnDataSource(ColumnDataSource.from_df(df))\n",
        "labels = LabelSet(x=\"x\", y=\"y\", text=\"document\", y_offset=8,\n",
        "                  text_font_size=\"8pt\", text_color=\"#555555\",\n",
        "                  source=source, text_align='center')\n",
        "\n",
        "plot=figure(min_width=1000, height=600)\n",
        "#plot = figure(plot_width=1000, plot_height=600)\n",
        "plot.scatter(\"x\", \"y\", size=12, source=source, line_color=\"black\", fill_alpha=0.4)\n",
        "plot.add_layout(labels)\n",
        "show(plot, notebook_handle=True)"
      ],
      "metadata": {
        "id": "GDt1_G9mozQl"
      },
      "id": "GDt1_G9mozQl",
      "execution_count": null,
      "outputs": []
    },
    {
      "cell_type": "code",
      "source": [
        "!pip install pyLDAvis"
      ],
      "metadata": {
        "id": "BI4Eed9ErtXy"
      },
      "id": "BI4Eed9ErtXy",
      "execution_count": null,
      "outputs": []
    },
    {
      "cell_type": "code",
      "source": [
        "import pyLDAvis\n",
        "import pyLDAvis.gensim_models\n",
        "\n",
        "pyLDAvis.enable_notebook()\n",
        "vis = pyLDAvis.gensim_models.prepare(lda, documents_vectorized, vectorizer, mds='tsne')\n",
        "vis"
      ],
      "metadata": {
        "id": "ZMi0VD80rcnM"
      },
      "id": "ZMi0VD80rcnM",
      "execution_count": null,
      "outputs": []
    },
    {
      "cell_type": "markdown",
      "source": [
        "## Vectorizing the corpus"
      ],
      "metadata": {
        "id": "cRJxcGbsWdv8"
      },
      "id": "cRJxcGbsWdv8"
    },
    {
      "cell_type": "markdown",
      "source": [
        "## Word2Vec model, explore and visualize"
      ],
      "metadata": {
        "id": "8nURhyHN8ymX"
      },
      "id": "8nURhyHN8ymX"
    },
    {
      "cell_type": "code",
      "source": [
        "nltk.download('punkt_tab')"
      ],
      "metadata": {
        "id": "4YrTkLDz9hjC"
      },
      "id": "4YrTkLDz9hjC",
      "execution_count": null,
      "outputs": []
    },
    {
      "cell_type": "code",
      "execution_count": null,
      "id": "bca25ef7-5a19-41e3-a199-bdde7304e575",
      "metadata": {
        "id": "bca25ef7-5a19-41e3-a199-bdde7304e575"
      },
      "outputs": [],
      "source": [
        "from nltk.tokenize import word_tokenize\n",
        "\n",
        "# X is a list of tokenized texts (i.e. list of lists of tokens)\n",
        "X = [word_tokenize(item) for item in df.text.tolist()]\n",
        "#print(X[0:3])\n",
        "model = gensim.models.Word2Vec(X, min_count=6, vector_size=200) # min_count: how many times a word appears in the corpus; size: number of dimensions"
      ]
    },
    {
      "cell_type": "code",
      "source": [
        "model.wv.most_similar(positive=[\"schloss\"], topn=12)"
      ],
      "metadata": {
        "id": "QS_aLSZc87XP"
      },
      "id": "QS_aLSZc87XP",
      "execution_count": null,
      "outputs": []
    },
    {
      "cell_type": "markdown",
      "source": [
        "### Visualize keywords with t-SNE\n",
        "\n",
        "Choose keywords that correspond to your analysis and visualize how they and their closest terms are distributed in the discourse.\n",
        "Use t-SNE to visualize the relations.\n",
        "\n",
        "* [t-Distributed Stochastic Neighbor Embedding (t-SNE)](https://en.wikipedia.org/wiki/T-distributed_stochastic_neighbor_embedding) is a technique for dimensionality reduction that is particularly well suited for the visualization of high-dimensional datasets.\n"
      ],
      "metadata": {
        "id": "kPpqk0TYab3j"
      },
      "id": "kPpqk0TYab3j"
    },
    {
      "cell_type": "code",
      "source": [
        "keys_role = ['Man', 'Frau']\n",
        "\n",
        "embedding_clusters = []\n",
        "word_clusters = []\n",
        "for word in keys_grave:\n",
        "    embeddings = []\n",
        "    words = []\n",
        "    for similar_word, _ in model.wv.most_similar(word, topn=30):\n",
        "        words.append(similar_word)\n",
        "        embeddings.append(model.wv[similar_word])\n",
        "    embedding_clusters.append(embeddings)\n",
        "    word_clusters.append(words)"
      ],
      "metadata": {
        "id": "Xuyj8RYhXRPz"
      },
      "id": "Xuyj8RYhXRPz",
      "execution_count": null,
      "outputs": []
    },
    {
      "cell_type": "code",
      "source": [
        "from sklearn.manifold import TSNE\n",
        "\n",
        "embedding_clusters = np.array(embedding_clusters)\n",
        "n, m, k = embedding_clusters.shape\n",
        "tsne_model_en_2d = TSNE(perplexity=15, n_components=2, init='pca', n_iter=3500, random_state=32)\n",
        "embeddings_en_2d = np.array(tsne_model_en_2d.fit_transform(embedding_clusters.reshape(n * m, k))).reshape(n, m, 2)"
      ],
      "metadata": {
        "id": "wL-7z_InXSX0"
      },
      "id": "wL-7z_InXSX0",
      "execution_count": null,
      "outputs": []
    },
    {
      "cell_type": "code",
      "source": [
        "import matplotlib.pyplot as plt\n",
        "import matplotlib.cm as cm\n",
        "\n",
        "def tsne_plot_similar_words(title, labels, embedding_clusters, word_clusters, a, filename=None):\n",
        "    plt.figure(figsize=(16, 9))\n",
        "    colors = cm.rainbow(np.linspace(0, 1, len(labels)))\n",
        "    for label, embeddings, words, color in zip(labels, embedding_clusters, word_clusters, colors):\n",
        "        x = embeddings[:, 0]\n",
        "        y = embeddings[:, 1]\n",
        "        plt.scatter(x, y, c=color, alpha=a, label=label)\n",
        "        for i, word in enumerate(words):\n",
        "            plt.annotate(word, alpha=0.5, xy=(x[i], y[i]), xytext=(5, 2),\n",
        "                         textcoords='offset points', ha='right', va='bottom', size=8)\n",
        "    plt.legend(loc=4)\n",
        "    plt.title(title)\n",
        "    plt.grid(True)\n",
        "    if filename:\n",
        "        plt.savefig(filename, format='png', dpi=300, bbox_inches='tight')\n",
        "    plt.show()\n",
        "\n",
        "\n",
        "tsne_plot_similar_words('Similar words from '+cc+' heritage houses website', keys_role, embeddings_en_2d, word_clusters, 0.7,\n",
        "                        'similar_words.png')"
      ],
      "metadata": {
        "id": "5tgZbwmbWdeT"
      },
      "id": "5tgZbwmbWdeT",
      "execution_count": null,
      "outputs": []
    },
    {
      "cell_type": "code",
      "source": [
        "keys_status = ['Arbeit', 'Eigentum', 'Zimmer', 'Garten']\n",
        "\n",
        "# calculate embeddings, using topn number of similar words (change the value to include more or less words)\n",
        "embedding_clusters = []\n",
        "word_clusters = []\n",
        "for word in keys_status:\n",
        "    embeddings = []\n",
        "    words = []\n",
        "    for similar_word, _ in model.wv.most_similar(word, topn=20):\n",
        "        words.append(similar_word)\n",
        "        embeddings.append(model.wv[similar_word])\n",
        "    embedding_clusters.append(embeddings)\n",
        "    word_clusters.append(words)"
      ],
      "metadata": {
        "id": "HSpDL4QoY4_b"
      },
      "id": "HSpDL4QoY4_b",
      "execution_count": null,
      "outputs": []
    },
    {
      "cell_type": "code",
      "source": [
        "embedding_clusters = np.array(embedding_clusters)\n",
        "n, m, k = embedding_clusters.shape\n",
        "tsne_model_en_2d = TSNE(perplexity=15, n_components=2, init='pca', n_iter=3500, random_state=32)\n",
        "embeddings_en_2d = np.array(tsne_model_en_2d.fit_transform(embedding_clusters.reshape(n * m, k))).reshape(n, m, 2)\n",
        "\n",
        "# plot a view with new keywords:\n",
        "tsne_plot_similar_words('Similar words from '+cc+' heritage houses website', keys_status, embeddings_en_2d, word_clusters, 0.7,\n",
        "                        'similar_words.png')"
      ],
      "metadata": {
        "id": "jLH-4d_mZbBg"
      },
      "id": "jLH-4d_mZbBg",
      "execution_count": null,
      "outputs": []
    },
    {
      "cell_type": "markdown",
      "source": [
        "Calculate basic frequency"
      ],
      "metadata": {
        "id": "mRSuATcHYm0U"
      },
      "id": "mRSuATcHYm0U"
    },
    {
      "cell_type": "markdown",
      "source": [
        "## 4. Analyse specific collocations"
      ],
      "metadata": {
        "id": "2nFPgMYkiygf"
      },
      "id": "2nFPgMYkiygf"
    },
    {
      "cell_type": "code",
      "source": [
        "# search for words from this list or use another list\n",
        "search_words = ['royal']"
      ],
      "metadata": {
        "id": "LoJnS9K7h5Kd"
      },
      "id": "LoJnS9K7h5Kd",
      "execution_count": null,
      "outputs": []
    },
    {
      "cell_type": "code",
      "source": [
        "# SCI-KIT method, produces lists of co-occurencies for specific terms\n",
        "def vectorize_text(df):\n",
        "    vectorizer = CountVectorizer()\n",
        "    X = vectorizer.fit_transform(df['text'])\n",
        "    return X, vectorizer\n",
        "\n",
        "def find_collocations(text, target_words):\n",
        "    words = text.split()\n",
        "    collocations = []\n",
        "    for i in range(len(words) - 1):\n",
        "        if words[i] in target_words:\n",
        "            collocations.append((words[i], words[i + 1]))\n",
        "        if words[i + 1] in target_words:\n",
        "            collocations.append((words[i + 1], words[i]))\n",
        "    return collocations\n",
        "\n",
        "def get_frequent_collocations(df, most_frequent_words):\n",
        "    collocations = []\n",
        "    for text in df['text']:\n",
        "        collocations.extend(find_collocations(text, most_frequent_words))\n",
        "    collocation_counts = Counter(collocations)\n",
        "    frequent_collocations = {}\n",
        "    for word in most_frequent_words:\n",
        "        word_collocations = {collocation: count for collocation, count in collocation_counts.items() if word in collocation}\n",
        "        frequent_collocations[word] = dict(islice(Counter(word_collocations).most_common(20), 20))\n",
        "    return frequent_collocations\n",
        "\n",
        "def analyze_word_collocations(df):\n",
        "    X, vectorizer = vectorize_text(df)\n",
        "    most_frequent_words = search_words\n",
        "    frequent_collocations = get_frequent_collocations(df, most_frequent_words)\n",
        "    return frequent_collocations"
      ],
      "metadata": {
        "id": "032f9482-879c-43f9-a9cd-3b1ca5d7056c"
      },
      "id": "032f9482-879c-43f9-a9cd-3b1ca5d7056c",
      "execution_count": null,
      "outputs": []
    },
    {
      "cell_type": "code",
      "execution_count": null,
      "id": "2657cbe3-aa7e-4e4b-8d68-1d6050cf6f49",
      "metadata": {
        "id": "2657cbe3-aa7e-4e4b-8d68-1d6050cf6f49"
      },
      "outputs": [],
      "source": [
        "collocations = analyze_word_collocations(df)"
      ]
    },
    {
      "cell_type": "code",
      "execution_count": null,
      "id": "4fbef5d2-983b-49fa-8924-95abd24b2855",
      "metadata": {
        "id": "4fbef5d2-983b-49fa-8924-95abd24b2855"
      },
      "outputs": [],
      "source": [
        "data = []\n",
        "for word, colloc_dict in collocations.items():\n",
        "   for collocation, count in colloc_dict.items():\n",
        "       #collocation_str = ' '.join(collocation)  # Join collocation words into a single string\n",
        "       data.append([word, collocation[1], count])\n",
        "collocations_df = pd.DataFrame(data, columns=['Word', 'Collocation', 'Count'])\n",
        "print(collocations_df.to_markdown(index=True))"
      ]
    },
    {
      "cell_type": "code",
      "source": [
        "import gensim.downloader as api\n",
        "\n",
        "wv = api.load('word2vec-google-news-300')\n",
        "\n",
        "vec_king = wv['king']"
      ],
      "metadata": {
        "id": "ornUSbnUl9fN"
      },
      "id": "ornUSbnUl9fN",
      "execution_count": null,
      "outputs": []
    }
  ],
  "metadata": {
    "kernelspec": {
      "display_name": "Python 3 (ipykernel)",
      "language": "python",
      "name": "python3"
    },
    "language_info": {
      "codemirror_mode": {
        "name": "ipython",
        "version": 3
      },
      "file_extension": ".py",
      "mimetype": "text/x-python",
      "name": "python",
      "nbconvert_exporter": "python",
      "pygments_lexer": "ipython3",
      "version": "3.9.6"
    },
    "colab": {
      "provenance": []
    }
  },
  "nbformat": 4,
  "nbformat_minor": 5
}