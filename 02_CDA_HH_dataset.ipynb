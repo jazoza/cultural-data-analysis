{
  "cells": [
    {
      "cell_type": "markdown",
      "source": [
        "# Cultural Data Analysis\n",
        "\n",
        "Introduction to working with datasets"
      ],
      "metadata": {
        "id": "7CC34uuNzNxY"
      },
      "id": "7CC34uuNzNxY"
    },
    {
      "cell_type": "code",
      "execution_count": 1,
      "id": "76a4e150-cc6f-4878-a32b-e78a1d6426ae",
      "metadata": {
        "id": "76a4e150-cc6f-4878-a32b-e78a1d6426ae"
      },
      "outputs": [],
      "source": [
        "# import necessary libraries\n",
        "import os, re, csv\n",
        "import pandas as pd\n",
        "import numpy as np\n",
        "import gensim, nltk\n",
        "from sklearn.feature_extraction.text import CountVectorizer\n",
        "from collections import Counter\n",
        "from itertools import islice"
      ]
    },
    {
      "cell_type": "markdown",
      "id": "7010dda9-acc5-4d90-b175-90012564d13c",
      "metadata": {
        "id": "7010dda9-acc5-4d90-b175-90012564d13c"
      },
      "source": [
        "## Loading the dataset: heritage homes webistes\n",
        "\n",
        "The dataset is stored in a shared google drive:\n",
        "https://drive.google.com/drive/folders/11Shm0edDOiWrOe56fzJQRZi-v_BPSW8E?usp=drive_link\n",
        "\n",
        "Add it to your drive.\n",
        "\n",
        "To access it, load your gdrive in 'Files' (see left pane of the notebook in google colab) and navigate to the shared folder. You may need to click on 'refresh' to make it appear on the list."
      ]
    },
    {
      "cell_type": "code",
      "execution_count": null,
      "id": "d42429d3-63fe-4b79-b341-160057e5dcbc",
      "metadata": {
        "id": "d42429d3-63fe-4b79-b341-160057e5dcbc"
      },
      "outputs": [],
      "source": [
        "from google.colab import drive\n",
        "drive.mount('/content/gdrive')"
      ]
    },
    {
      "cell_type": "code",
      "source": [
        "raw_data_file = '/content/gdrive/MyDrive/CDA/dataset_website-content-crawler_2024-11-13_22-29-32-301.json'"
      ],
      "metadata": {
        "id": "yCPPY_4I2pIZ"
      },
      "id": "yCPPY_4I2pIZ",
      "execution_count": 3,
      "outputs": []
    },
    {
      "cell_type": "code",
      "execution_count": null,
      "id": "8697b51f-50a5-4091-9cc1-0aed1308b27d",
      "metadata": {
        "id": "8697b51f-50a5-4091-9cc1-0aed1308b27d"
      },
      "outputs": [],
      "source": [
        "# Import json data from Aipfy scraping\n",
        "df=pd.read_json(raw_data_file)\n",
        "\n",
        "# Print the DataFrame\n",
        "df.head()"
      ]
    },
    {
      "cell_type": "code",
      "execution_count": null,
      "id": "6a4128d6-4115-47a6-9e78-5a517bded844",
      "metadata": {
        "id": "6a4128d6-4115-47a6-9e78-5a517bded844"
      },
      "outputs": [],
      "source": [
        "# select only two columns for analysis: url and text\n",
        "df=df[['url','text']]\n",
        "df.head()"
      ]
    },
    {
      "cell_type": "markdown",
      "source": [
        "Join all pages from a domain to an entry in the analysis. To do this, add a new column which will contain only the main domain name."
      ],
      "metadata": {
        "id": "Rr6hiPQ-4z5O"
      },
      "id": "Rr6hiPQ-4z5O"
    },
    {
      "cell_type": "code",
      "source": [
        "# function to extract the main domain from the url in the dataset\n",
        "def extract_main_domain(url):\n",
        "    if not isinstance(str(url), str):\n",
        "        print('NOT VALID',url)\n",
        "        return None\n",
        "    match = re.findall('(?:\\w+\\.)*\\w+\\.\\w*', str(url)) #'www\\.?([^/]+)'\n",
        "    return match[0].lstrip('www.') if match else None"
      ],
      "metadata": {
        "id": "_Px9Aoim4-pq"
      },
      "id": "_Px9Aoim4-pq",
      "execution_count": 6,
      "outputs": []
    },
    {
      "cell_type": "code",
      "execution_count": 7,
      "id": "47db9deb-8836-47fb-9f74-28a023bcb5d7",
      "metadata": {
        "id": "47db9deb-8836-47fb-9f74-28a023bcb5d7"
      },
      "outputs": [],
      "source": [
        "# Load the list of domains from a csv file:\n",
        "nl = pd.read_csv('/content/gdrive/MyDrive/CDA/nl_urls.csv')\n",
        "nl_urls = nl['NL domains'].values.tolist()\n",
        "\n",
        "# Extract main domains from nl_urls\n",
        "nl_domains = {extract_main_domain(url) for url in nl_urls if extract_main_domain(url) is not None}\n",
        "\n",
        "# Check if main domains in list_of_links match any domain in nl_domains\n",
        "matching_links = [link for link in df.url if extract_main_domain(link) in nl_domains]"
      ]
    },
    {
      "cell_type": "code",
      "execution_count": null,
      "id": "2a2e8c0b-4c0e-4445-a5bb-2f1695ad353e",
      "metadata": {
        "id": "2a2e8c0b-4c0e-4445-a5bb-2f1695ad353e"
      },
      "outputs": [],
      "source": [
        "print(len(matching_links))"
      ]
    },
    {
      "cell_type": "code",
      "execution_count": null,
      "id": "cc9d2331-fe01-4e94-b984-00ac834a771c",
      "metadata": {
        "id": "cc9d2331-fe01-4e94-b984-00ac834a771c"
      },
      "outputs": [],
      "source": [
        "# Add a new column 'domain' and fill it by applying the extract_main_domain function to the 'url' column\n",
        "df['domain'] = df['url'].apply(extract_main_domain)\n",
        "df.head()"
      ]
    },
    {
      "cell_type": "markdown",
      "source": [
        "## Working with text"
      ],
      "metadata": {
        "id": "inCepASp67ru"
      },
      "id": "inCepASp67ru"
    },
    {
      "cell_type": "code",
      "source": [
        "!wget https://raw.githubusercontent.com/jazoza/cultural-data-analysis/refs/heads/main/stopwords_archive/dutch.txt"
      ],
      "metadata": {
        "id": "rKDwducX7kqD"
      },
      "id": "rKDwducX7kqD",
      "execution_count": null,
      "outputs": []
    },
    {
      "cell_type": "code",
      "source": [
        "# load a list of 'stopwords' in the language you are analyzing\n",
        "def get_stopwords_list(stop_file_path):\n",
        "    \"\"\"load stop words \"\"\"\n",
        "    with open(stop_file_path, 'r', encoding=\"utf-8\") as f:\n",
        "        stopwords = f.readlines()\n",
        "        stop_set = set(m.strip() for m in stopwords)\n",
        "        return list(frozenset(stop_set))\n",
        "stopwords_path = \"dutch.txt\"\n",
        "stopwords = get_stopwords_list(stopwords_path)"
      ],
      "metadata": {
        "id": "_bCxFJzY69_b"
      },
      "id": "_bCxFJzY69_b",
      "execution_count": 11,
      "outputs": []
    },
    {
      "cell_type": "code",
      "source": [
        "special_stop_words = ['nbsp', 'the', 'and']\n",
        "stopwords_ext = stopwords+special_stop_words"
      ],
      "metadata": {
        "id": "HgNkZORH75QF"
      },
      "id": "HgNkZORH75QF",
      "execution_count": 12,
      "outputs": []
    },
    {
      "cell_type": "markdown",
      "id": "b5238d41-a6b8-48db-84d9-f6d3bb1054ad",
      "metadata": {
        "id": "b5238d41-a6b8-48db-84d9-f6d3bb1054ad"
      },
      "source": [
        "### Calculate term frequency, all"
      ]
    },
    {
      "cell_type": "code",
      "execution_count": null,
      "id": "3b7d7865-db1f-42bc-97a0-f901e371a5e5",
      "metadata": {
        "id": "3b7d7865-db1f-42bc-97a0-f901e371a5e5"
      },
      "outputs": [],
      "source": [
        "from sklearn.feature_extraction.text import CountVectorizer\n",
        "cvec_all = CountVectorizer().fit(df.text)\n",
        "df_matrix_all = cvec_all.transform(df.text)\n",
        "df_all = np.sum(df_matrix_all,axis=0)\n",
        "terms = np.squeeze(np.asarray(df_all))\n",
        "print(terms.shape)\n",
        "term_freq_df_all = pd.DataFrame([terms],columns=cvec_all.get_feature_names_out()).transpose() #term_freq_df is with stopwords\n",
        "term_freq_df_all.columns = ['terms']\n",
        "term_freq_df_all.sort_values(by='terms', ascending=False).iloc[:10]"
      ]
    },
    {
      "cell_type": "markdown",
      "id": "c00bf257-bb19-4481-b513-31ac70340084",
      "metadata": {
        "id": "c00bf257-bb19-4481-b513-31ac70340084"
      },
      "source": [
        "### Calculate term frequency without stop words"
      ]
    },
    {
      "cell_type": "code",
      "execution_count": null,
      "id": "4e317c18-cf12-48e6-a4db-57b3a99fde06",
      "metadata": {
        "id": "4e317c18-cf12-48e6-a4db-57b3a99fde06"
      },
      "outputs": [],
      "source": [
        "cvec_stopped = CountVectorizer(stop_words=stopwords_ext) # see above, import frozenset from stopwords_archive in correct language\n",
        "cvec_stopped.fit(df.text)\n",
        "document_matrix = cvec_stopped.transform(df.text)\n",
        "term_batches = np.linspace(0,document_matrix.shape[0],10).astype(int)\n",
        "i=0\n",
        "df_stopped = []\n",
        "while i < len(term_batches)-1:\n",
        "    batch_result = np.sum(document_matrix[term_batches[i]:term_batches[i+1]].toarray(),axis=0)\n",
        "    df_stopped.append(batch_result)\n",
        "    print(term_batches[i+1],\"entries' term frequency calculated\")\n",
        "    i += 1\n",
        "\n",
        "terms_stopped = np.sum(df_stopped,axis=0)\n",
        "print(terms_stopped.shape)\n",
        "term_freq_df_stopped = pd.DataFrame([terms_stopped],columns=cvec_stopped.get_feature_names_out()).transpose()\n",
        "term_freq_df_stopped.columns = ['terms']\n",
        "term_freq_df_stopped.sort_values(by='terms', ascending=False).iloc[:10]"
      ]
    },
    {
      "cell_type": "markdown",
      "source": [
        "### Zipf's law"
      ],
      "metadata": {
        "id": "RGijZAqY0Bqu"
      },
      "id": "RGijZAqY0Bqu"
    },
    {
      "cell_type": "code",
      "execution_count": null,
      "id": "52d2cbe9-ed7f-41c8-96e9-e8289f453ed0",
      "metadata": {
        "id": "52d2cbe9-ed7f-41c8-96e9-e8289f453ed0"
      },
      "outputs": [],
      "source": [
        "# Plot Zipf's law table\n",
        "\n",
        "import matplotlib.pyplot as plt\n",
        "plt.style.use('fivethirtyeight')\n",
        "%matplotlib inline\n",
        "%config InlineBackend.figure_format = 'retina'\n",
        "\n",
        "from pylab import *\n",
        "counts = term_freq_df_all.terms\n",
        "tokens = term_freq_df_all.index\n",
        "ranks = arange(1, len(counts)+1)\n",
        "indices = argsort(-counts)\n",
        "frequencies = counts[indices]\n",
        "plt.figure(figsize=(10,10))\n",
        "plt.rc('font', size=14)\n",
        "plt.ylim(1,10**6)\n",
        "plt.xlim(1,10**6)\n",
        "loglog(ranks, frequencies, marker=\".\")\n",
        "plt.plot([1,frequencies[0]],[frequencies[0],1],color='r')\n",
        "title(\"Zipf plot for tweets tokens\")\n",
        "xlabel(\"Frequency rank of token\")\n",
        "ylabel(\"Absolute frequency of token\")\n",
        "grid(True)\n",
        "for n in list(logspace(-0.5, log10(len(counts)-2), 25).astype(int)):\n",
        "    dummy = text(ranks[n], frequencies[n], \" \" + tokens[indices[n]],\n",
        "                 verticalalignment=\"bottom\",\n",
        "                 horizontalalignment=\"left\")"
      ]
    },
    {
      "cell_type": "markdown",
      "source": [
        "## Word2Vec model"
      ],
      "metadata": {
        "id": "8nURhyHN8ymX"
      },
      "id": "8nURhyHN8ymX"
    },
    {
      "cell_type": "code",
      "source": [
        "nltk.download('punkt_tab')"
      ],
      "metadata": {
        "id": "4YrTkLDz9hjC"
      },
      "id": "4YrTkLDz9hjC",
      "execution_count": null,
      "outputs": []
    },
    {
      "cell_type": "code",
      "execution_count": null,
      "id": "bca25ef7-5a19-41e3-a199-bdde7304e575",
      "metadata": {
        "id": "bca25ef7-5a19-41e3-a199-bdde7304e575"
      },
      "outputs": [],
      "source": [
        "from nltk.tokenize import word_tokenize\n",
        "\n",
        "# X is a list of tokenized texts (i.e. list of lists of tokens)\n",
        "X = [word_tokenize(item) for item in df.text.tolist()]\n",
        "#print(X[0:3])\n",
        "model = gensim.models.Word2Vec(X, min_count=6, vector_size=200) # min_count: how many times a word appears in the corpus; size: number of dimensions"
      ]
    },
    {
      "cell_type": "code",
      "source": [
        "model.wv.most_similar(positive=[\"kasteel\"], topn=12)"
      ],
      "metadata": {
        "id": "QS_aLSZc87XP"
      },
      "id": "QS_aLSZc87XP",
      "execution_count": null,
      "outputs": []
    },
    {
      "cell_type": "markdown",
      "id": "08144921-d7be-45ed-8795-1c085fb2640b",
      "metadata": {
        "id": "08144921-d7be-45ed-8795-1c085fb2640b"
      },
      "source": [
        "## Collocations"
      ]
    },
    {
      "cell_type": "code",
      "source": [
        "# SCI-KIT method, produces lists of co-occurencies for specific terms\n",
        "def vectorize_text(df):\n",
        "    vectorizer = CountVectorizer()\n",
        "    X = vectorizer.fit_transform(df['text'])\n",
        "    return X, vectorizer\n",
        "\n",
        "# optional: calculate n most frequent words, returns a list\n",
        "def get_most_frequent_words(vectorizer, X, n=5):\n",
        "    word_counts = X.sum(axis=0).A1\n",
        "    words = vectorizer.get_feature_names_out()\n",
        "    word_count_dict = dict(zip(words, word_counts))\n",
        "    most_frequent_words = [word for word, count in Counter(word_count_dict).most_common(n)]\n",
        "    #print(most_frequent_words, type(most_frequent_words))\n",
        "    return most_frequent_words\n",
        "\n",
        "# or use another list\n",
        "search_words = ['architectuur', 'collectie', 'geschiedenis', 'tuin']\n",
        "\n",
        "def find_collocations(text, target_words):\n",
        "    words = text.split()\n",
        "    collocations = []\n",
        "    for i in range(len(words) - 1):\n",
        "        if words[i] in target_words:\n",
        "            collocations.append((words[i], words[i + 1]))\n",
        "        if words[i + 1] in target_words:\n",
        "            collocations.append((words[i + 1], words[i]))\n",
        "    return collocations\n",
        "\n",
        "def get_frequent_collocations(df, most_frequent_words):\n",
        "    collocations = []\n",
        "    for text in df['text']:\n",
        "        collocations.extend(find_collocations(text, most_frequent_words))\n",
        "    collocation_counts = Counter(collocations)\n",
        "    frequent_collocations = {}\n",
        "    for word in most_frequent_words:\n",
        "        word_collocations = {collocation: count for collocation, count in collocation_counts.items() if word in collocation}\n",
        "        frequent_collocations[word] = dict(islice(Counter(word_collocations).most_common(20), 20))\n",
        "    return frequent_collocations\n",
        "\n",
        "def analyze_word_collocations(df):\n",
        "    X, vectorizer = vectorize_text(df)\n",
        "    #most_frequent_words = get_most_frequent_words(vectorizer, X)\n",
        "    most_frequent_words = search_words\n",
        "    frequent_collocations = get_frequent_collocations(df, most_frequent_words)\n",
        "    return frequent_collocations"
      ],
      "metadata": {
        "id": "032f9482-879c-43f9-a9cd-3b1ca5d7056c"
      },
      "id": "032f9482-879c-43f9-a9cd-3b1ca5d7056c",
      "execution_count": null,
      "outputs": []
    },
    {
      "cell_type": "code",
      "execution_count": null,
      "id": "2657cbe3-aa7e-4e4b-8d68-1d6050cf6f49",
      "metadata": {
        "id": "2657cbe3-aa7e-4e4b-8d68-1d6050cf6f49"
      },
      "outputs": [],
      "source": [
        "collocations24 = analyze_word_collocations(df_urled, family_words)"
      ]
    },
    {
      "cell_type": "code",
      "execution_count": null,
      "id": "4fbef5d2-983b-49fa-8924-95abd24b2855",
      "metadata": {
        "id": "4fbef5d2-983b-49fa-8924-95abd24b2855"
      },
      "outputs": [],
      "source": [
        "data = []\n",
        "for word, colloc_dict in collocations24.items():\n",
        "   for collocation, count in colloc_dict.items():\n",
        "       #collocation_str = ' '.join(collocation)  # Join collocation words into a single string\n",
        "       data.append([word, collocation[1], count])\n",
        "collocations24_df = pd.DataFrame(data, columns=['Word', 'Collocation', 'Count'])\n",
        "print(collocations24_df.to_markdown(index=True))"
      ]
    },
    {
      "cell_type": "markdown",
      "id": "09be655e-553d-4f2f-8993-9a4fbe63c0aa",
      "metadata": {
        "id": "09be655e-553d-4f2f-8993-9a4fbe63c0aa"
      },
      "source": [
        "## TF-IDF vectorization"
      ]
    },
    {
      "cell_type": "code",
      "source": [
        "from sklearn.feature_extraction.text import TfidfVectorizer"
      ],
      "metadata": {
        "id": "nHaX1Ipo99za"
      },
      "id": "nHaX1Ipo99za",
      "execution_count": 15,
      "outputs": []
    },
    {
      "cell_type": "code",
      "execution_count": null,
      "id": "002e51e5-ccc0-41c7-9e8c-35d2c794368b",
      "metadata": {
        "id": "002e51e5-ccc0-41c7-9e8c-35d2c794368b"
      },
      "outputs": [],
      "source": [
        "# Initialize the TfidfVectorizer\n",
        "vectorizer = TfidfVectorizer(stop_words=stopwords_ext)\n",
        "# Fit and transform the text data\n",
        "tfidf_matrix = vectorizer.fit_transform(df['text'])\n",
        "# Convert the TF-IDF matrix to a DataFrame\n",
        "tfidf_df = pd.DataFrame(tfidf_matrix.toarray(), columns=vectorizer.get_feature_names_out())\n",
        "# Add filenames as index\n",
        "tfidf_df.index = df['domain']\n",
        "# Print the TF-IDF DataFrame\n",
        "tfidf_df.head()"
      ]
    },
    {
      "cell_type": "code",
      "execution_count": 17,
      "id": "58b69f61-d6b4-4413-9c7a-f916939197ec",
      "metadata": {
        "id": "58b69f61-d6b4-4413-9c7a-f916939197ec"
      },
      "outputs": [],
      "source": [
        "# Add column for document frequency aka number of times word appears in all documents\n",
        "tfidf_df.loc['ALL'] = (tfidf_df > 0).sum()"
      ]
    },
    {
      "cell_type": "code",
      "execution_count": null,
      "id": "4e520f80-a77d-4e4f-af27-53df6eddbd91",
      "metadata": {
        "id": "4e520f80-a77d-4e4f-af27-53df6eddbd91"
      },
      "outputs": [],
      "source": [
        "tfidf_df.head() # first five rows"
      ]
    },
    {
      "cell_type": "code",
      "execution_count": null,
      "id": "d00361c1-d6b5-46e3-8b66-87423a0dc2b6",
      "metadata": {
        "id": "d00361c1-d6b5-46e3-8b66-87423a0dc2b6"
      },
      "outputs": [],
      "source": [
        "# 10 most frequent words!\n",
        "\n",
        "tfidf_slice = tfidf_df[term_freq_df_stopped.sort_values(by='terms', ascending=False).iloc[:10].index.tolist()]\n",
        "tfidf_slice.sort_index().round(decimals=2).head() # first five rows"
      ]
    },
    {
      "cell_type": "code",
      "execution_count": null,
      "id": "54b73181-9d99-4d60-a272-b4c1bb07ae8c",
      "metadata": {
        "id": "54b73181-9d99-4d60-a272-b4c1bb07ae8c"
      },
      "outputs": [],
      "source": [
        "# reorganize the DataFrame so that the words are in rows rather than columns\n",
        "tfidf_df = tfidf_df.drop('ALL', errors='ignore')\n",
        "tfidf_df = tfidf_df.stack().reset_index()\n",
        "tfidf_df.head()"
      ]
    },
    {
      "cell_type": "code",
      "execution_count": null,
      "id": "0ed80520-b12a-415e-b1bd-3edef4cd23b4",
      "metadata": {
        "id": "0ed80520-b12a-415e-b1bd-3edef4cd23b4"
      },
      "outputs": [],
      "source": [
        "tfidf_df = tfidf_df.rename(columns={0:'tfidf', 'domain': 'document','level_1': 'term'})\n",
        "tfidf_df.head()"
      ]
    },
    {
      "cell_type": "code",
      "execution_count": null,
      "id": "ea792b30-cfee-431a-bdf4-743edded27d3",
      "metadata": {
        "id": "ea792b30-cfee-431a-bdf4-743edded27d3"
      },
      "outputs": [],
      "source": [
        "tfidf_df.sort_values(by=['document','tfidf'], ascending=[True,False]).groupby(['document']).head"
      ]
    },
    {
      "cell_type": "code",
      "execution_count": null,
      "id": "a35a2381-c49e-4218-8e0b-d298d24db2da",
      "metadata": {
        "id": "a35a2381-c49e-4218-8e0b-d298d24db2da",
        "outputId": "49036f44-a290-4847-e634-09e4ed775dda"
      },
      "outputs": [
        {
          "data": {
            "text/html": [
              "\n",
              "<style>\n",
              "  #altair-viz-36711d2aa2874074b49dc5f4ad0be2c9.vega-embed {\n",
              "    width: 100%;\n",
              "    display: flex;\n",
              "  }\n",
              "\n",
              "  #altair-viz-36711d2aa2874074b49dc5f4ad0be2c9.vega-embed details,\n",
              "  #altair-viz-36711d2aa2874074b49dc5f4ad0be2c9.vega-embed details summary {\n",
              "    position: relative;\n",
              "  }\n",
              "</style>\n",
              "<div id=\"altair-viz-36711d2aa2874074b49dc5f4ad0be2c9\"></div>\n",
              "<script type=\"text/javascript\">\n",
              "  var VEGA_DEBUG = (typeof VEGA_DEBUG == \"undefined\") ? {} : VEGA_DEBUG;\n",
              "  (function(spec, embedOpt){\n",
              "    let outputDiv = document.currentScript.previousElementSibling;\n",
              "    if (outputDiv.id !== \"altair-viz-36711d2aa2874074b49dc5f4ad0be2c9\") {\n",
              "      outputDiv = document.getElementById(\"altair-viz-36711d2aa2874074b49dc5f4ad0be2c9\");\n",
              "    }\n",
              "    const paths = {\n",
              "      \"vega\": \"https://cdn.jsdelivr.net/npm/vega@5?noext\",\n",
              "      \"vega-lib\": \"https://cdn.jsdelivr.net/npm/vega-lib?noext\",\n",
              "      \"vega-lite\": \"https://cdn.jsdelivr.net/npm/vega-lite@5.16.3?noext\",\n",
              "      \"vega-embed\": \"https://cdn.jsdelivr.net/npm/vega-embed@6?noext\",\n",
              "    };\n",
              "\n",
              "    function maybeLoadScript(lib, version) {\n",
              "      var key = `${lib.replace(\"-\", \"\")}_version`;\n",
              "      return (VEGA_DEBUG[key] == version) ?\n",
              "        Promise.resolve(paths[lib]) :\n",
              "        new Promise(function(resolve, reject) {\n",
              "          var s = document.createElement('script');\n",
              "          document.getElementsByTagName(\"head\")[0].appendChild(s);\n",
              "          s.async = true;\n",
              "          s.onload = () => {\n",
              "            VEGA_DEBUG[key] = version;\n",
              "            return resolve(paths[lib]);\n",
              "          };\n",
              "          s.onerror = () => reject(`Error loading script: ${paths[lib]}`);\n",
              "          s.src = paths[lib];\n",
              "        });\n",
              "    }\n",
              "\n",
              "    function showError(err) {\n",
              "      outputDiv.innerHTML = `<div class=\"error\" style=\"color:red;\">${err}</div>`;\n",
              "      throw err;\n",
              "    }\n",
              "\n",
              "    function displayChart(vegaEmbed) {\n",
              "      vegaEmbed(outputDiv, spec, embedOpt)\n",
              "        .catch(err => showError(`Javascript Error: ${err.message}<br>This usually means there's a typo in your chart specification. See the javascript console for the full traceback.`));\n",
              "    }\n",
              "\n",
              "    if(typeof define === \"function\" && define.amd) {\n",
              "      requirejs.config({paths});\n",
              "      require([\"vega-embed\"], displayChart, err => showError(`Error loading script: ${err.message}`));\n",
              "    } else {\n",
              "      maybeLoadScript(\"vega\", \"5\")\n",
              "        .then(() => maybeLoadScript(\"vega-lite\", \"5.16.3\"))\n",
              "        .then(() => maybeLoadScript(\"vega-embed\", \"6\"))\n",
              "        .catch(showError)\n",
              "        .then(() => displayChart(vegaEmbed));\n",
              "    }\n",
              "  })({\"config\": {\"view\": {\"continuousWidth\": 300, \"continuousHeight\": 300}}, \"layer\": [{\"mark\": {\"type\": \"rect\"}, \"encoding\": {\"color\": {\"field\": \"tfidf\", \"type\": \"quantitative\"}, \"x\": {\"field\": \"rank\", \"type\": \"ordinal\"}, \"y\": {\"field\": \"document\", \"type\": \"nominal\"}}, \"transform\": [{\"window\": [{\"op\": \"rank\", \"field\": \"\", \"as\": \"rank\"}], \"groupby\": [\"document\"], \"sort\": [{\"field\": \"tfidf\", \"order\": \"descending\"}]}]}, {\"mark\": {\"type\": \"circle\", \"size\": 100}, \"encoding\": {\"color\": {\"condition\": {\"test\": {\"field\": \"term\", \"oneOf\": [\"kasteel\", \"huis\"]}, \"value\": \"red\"}, \"value\": \"#FFFFFF00\"}, \"x\": {\"field\": \"rank\", \"type\": \"ordinal\"}, \"y\": {\"field\": \"document\", \"type\": \"nominal\"}}, \"transform\": [{\"window\": [{\"op\": \"rank\", \"field\": \"\", \"as\": \"rank\"}], \"groupby\": [\"document\"], \"sort\": [{\"field\": \"tfidf\", \"order\": \"descending\"}]}]}, {\"mark\": {\"type\": \"text\", \"baseline\": \"middle\"}, \"encoding\": {\"color\": {\"condition\": {\"test\": \"(datum.tfidf >= 0.23)\", \"value\": \"white\"}, \"value\": \"black\"}, \"text\": {\"field\": \"term\", \"type\": \"nominal\"}, \"x\": {\"field\": \"rank\", \"type\": \"ordinal\"}, \"y\": {\"field\": \"document\", \"type\": \"nominal\"}}, \"transform\": [{\"window\": [{\"op\": \"rank\", \"field\": \"\", \"as\": \"rank\"}], \"groupby\": [\"document\"], \"sort\": [{\"field\": \"tfidf\", \"order\": \"descending\"}]}]}], \"data\": {\"name\": \"data-2b91562c10ee8301992918b9a8fc51d0\"}, \"width\": 600, \"$schema\": \"https://vega.github.io/schema/vega-lite/v5.16.3.json\", \"datasets\": {\"data-2b91562c10ee8301992918b9a8fc51d0\": [{\"document\": \"artland.top\", \"term\": \"winkelwagen\", \"tfidf\": 0.8671497802119394}, {\"document\": \"artland.top\", \"term\": \"artland\", \"tfidf\": 0.5798095987941165}, {\"document\": \"artland.top\", \"term\": \"strijthagen\", \"tfidf\": 0.5797727036320206}, {\"document\": \"artland.top\", \"term\": \"artikelen\", \"tfidf\": 0.38562688173612647}, {\"document\": \"artland.top\", \"term\": \"zitten\", \"tfidf\": 0.31557438171916324}, {\"document\": \"artland.top\", \"term\": \"landgraaf\", \"tfidf\": 0.18283016622537296}, {\"document\": \"artland.top\", \"term\": \"complex\", \"tfidf\": 0.16716456031625146}, {\"document\": \"artland.top\", \"term\": \"beeldenpark\", \"tfidf\": 0.11597641303967568}, {\"document\": \"artland.top\", \"term\": \"beeldschoon\", \"tfidf\": 0.11600936559531792}, {\"document\": \"artland.top\", \"term\": \"kasteelstrijthagen\", \"tfidf\": 0.11602951147406936}, {\"document\": \"buitenplaatsbeeckestijn.nl\", \"term\": \"beeckestijn\", \"tfidf\": 0.5817713025341802}, {\"document\": \"buitenplaatsbeeckestijn.nl\", \"term\": \"huis\", \"tfidf\": 0.26059501399213136}, {\"document\": \"buitenplaatsbeeckestijn.nl\", \"term\": \"buitenplaats\", \"tfidf\": 0.21955458457293386}, {\"document\": \"buitenplaatsbeeckestijn.nl\", \"term\": \"hendrick\", \"tfidf\": 0.1939646144775139}, {\"document\": \"buitenplaatsbeeckestijn.nl\", \"term\": \"keyser\", \"tfidf\": 0.19399748701376127}, {\"document\": \"buitenplaatsbeeckestijn.nl\", \"term\": \"00\", \"tfidf\": 0.18829252124369858}, {\"document\": \"buitenplaatsbeeckestijn.nl\", \"term\": \"zondag\", \"tfidf\": 0.16542380754231867}, {\"document\": \"buitenplaatsbeeckestijn.nl\", \"term\": \"tuinen\", \"tfidf\": 0.164496668125736}, {\"document\": \"buitenplaatsbeeckestijn.nl\", \"term\": \"16\", \"tfidf\": 0.15740050309995518}, {\"document\": \"buitenplaatsbeeckestijn.nl\", \"term\": \"uur\", \"tfidf\": 0.13425323337932993}, {\"document\": \"dekemastate.nl\", \"term\": \"kastanjemiddag\", \"tfidf\": 0.7554596026918841}, {\"document\": \"dekemastate.nl\", \"term\": \"stinzenflora\", \"tfidf\": 0.6594691706304109}, {\"document\": \"dekemastate.nl\", \"term\": \"havank\", \"tfidf\": 0.6440072066434257}, {\"document\": \"dekemastate.nl\", \"term\": \"havank\", \"tfidf\": 0.6273591991406553}, {\"document\": \"dekemastate.nl\", \"term\": \"hallo\", \"tfidf\": 0.625353658200647}, {\"document\": \"dekemastate.nl\", \"term\": \"unia\", \"tfidf\": 0.5785826940130636}, {\"document\": \"dekemastate.nl\", \"term\": \"leerlingen\", \"tfidf\": 0.5775616018986415}, {\"document\": \"dekemastate.nl\", \"term\": \"verkleedkleren\", \"tfidf\": 0.5772125326340087}, {\"document\": \"dekemastate.nl\", \"term\": \"friesch\", \"tfidf\": 0.5415929529112922}, {\"document\": \"dekemastate.nl\", \"term\": \"dekema\", \"tfidf\": 0.5388911763760381}, {\"document\": \"fraeylemaborg.nl\", \"term\": \"drieborgentocht\", \"tfidf\": 0.7393619344051718}, {\"document\": \"fraeylemaborg.nl\", \"term\": \"lezen\", \"tfidf\": 0.5702223550113695}, {\"document\": \"fraeylemaborg.nl\", \"term\": \"vriezen\", \"tfidf\": 0.5642989973053905}, {\"document\": \"fraeylemaborg.nl\", \"term\": \"fraeylemaborg\", \"tfidf\": 0.5478829164269415}, {\"document\": \"fraeylemaborg.nl\", \"term\": \"kerk\", \"tfidf\": 0.5292733686206851}, {\"document\": \"fraeylemaborg.nl\", \"term\": \"diepen\", \"tfidf\": 0.5259808016315918}, {\"document\": \"fraeylemaborg.nl\", \"term\": \"fraeylemaborg\", \"tfidf\": 0.5096782622757187}, {\"document\": \"fraeylemaborg.nl\", \"term\": \"follies\", \"tfidf\": 0.5008203547239585}, {\"document\": \"fraeylemaborg.nl\", \"term\": \"fraeylemaborg\", \"tfidf\": 0.4869272353871917}, {\"document\": \"fraeylemaborg.nl\", \"term\": \"gerrit\", \"tfidf\": 0.4868534971183987}, {\"document\": \"glk.nl\", \"term\": \"wolf\", \"tfidf\": 0.771147413376893}, {\"document\": \"glk.nl\", \"term\": \"lees\", \"tfidf\": 0.7052709473106034}, {\"document\": \"glk.nl\", \"term\": \"lees\", \"tfidf\": 0.6897865619798321}, {\"document\": \"glk.nl\", \"term\": \"collectebus\", \"tfidf\": 0.6886725763174085}, {\"document\": \"glk.nl\", \"term\": \"mehr\", \"tfidf\": 0.6810660094402317}, {\"document\": \"glk.nl\", \"term\": \"verder\", \"tfidf\": 0.6768399759221764}, {\"document\": \"glk.nl\", \"term\": \"verder\", \"tfidf\": 0.6619913186415892}, {\"document\": \"glk.nl\", \"term\": \"klacht\", \"tfidf\": 0.6597630712921333}, {\"document\": \"glk.nl\", \"term\": \"lees\", \"tfidf\": 0.6484979501448092}, {\"document\": \"glk.nl\", \"term\": \"lees\", \"tfidf\": 0.6244795859456069}, {\"document\": \"huisbergh.nl\", \"term\": \"cookies\", \"tfidf\": 0.6532395420706312}, {\"document\": \"huisbergh.nl\", \"term\": \"persoonsgegevens\", \"tfidf\": 0.6347515672720974}, {\"document\": \"huisbergh.nl\", \"term\": \"bergh\", \"tfidf\": 0.6174631277486401}, {\"document\": \"huisbergh.nl\", \"term\": \"bergh\", \"tfidf\": 0.5929337039538094}, {\"document\": \"huisbergh.nl\", \"term\": \"bergh\", \"tfidf\": 0.5777714244475274}, {\"document\": \"huisbergh.nl\", \"term\": \"bergh\", \"tfidf\": 0.5597756484220034}, {\"document\": \"huisbergh.nl\", \"term\": \"tijdslot\", \"tfidf\": 0.5574393951434907}, {\"document\": \"huisbergh.nl\", \"term\": \"bergh\", \"tfidf\": 0.5533795201185012}, {\"document\": \"huisbergh.nl\", \"term\": \"zoekt\", \"tfidf\": 0.5501048749890604}, {\"document\": \"huisbergh.nl\", \"term\": \"zoekt\", \"tfidf\": 0.5501250328920467}, {\"document\": \"huisdoorn.nl\", \"term\": \"doorn\", \"tfidf\": 0.665026124266596}, {\"document\": \"huisdoorn.nl\", \"term\": \"doorn\", \"tfidf\": 0.6542769992060326}, {\"document\": \"huisdoorn.nl\", \"term\": \"doorn\", \"tfidf\": 0.5956121090433973}, {\"document\": \"huisdoorn.nl\", \"term\": \"language\", \"tfidf\": 0.5915505112391665}, {\"document\": \"huisdoorn.nl\", \"term\": \"doorn\", \"tfidf\": 0.5687695111829074}, {\"document\": \"huisdoorn.nl\", \"term\": \"doorn\", \"tfidf\": 0.5457116758715724}, {\"document\": \"huisdoorn.nl\", \"term\": \"languages\", \"tfidf\": 0.539180476173843}, {\"document\": \"huisdoorn.nl\", \"term\": \"doorn\", \"tfidf\": 0.5377484925446603}, {\"document\": \"huisdoorn.nl\", \"term\": \"legaat\", \"tfidf\": 0.5071244873344832}, {\"document\": \"huisdoorn.nl\", \"term\": \"keizer\", \"tfidf\": 0.4723609780142872}, {\"document\": \"huystendonck.nl\", \"term\": \"oger\", \"tfidf\": 0.7832335181827124}, {\"document\": \"huystendonck.nl\", \"term\": \"ad\", \"tfidf\": 0.6838599740400149}, {\"document\": \"huystendonck.nl\", \"term\": \"carice\", \"tfidf\": 0.6599889546105637}, {\"document\": \"huystendonck.nl\", \"term\": \"elegance\", \"tfidf\": 0.656065935519203}, {\"document\": \"huystendonck.nl\", \"term\": \"jullie\", \"tfidf\": 0.5693509428185204}, {\"document\": \"huystendonck.nl\", \"term\": \"interview\", \"tfidf\": 0.5325659086033975}, {\"document\": \"huystendonck.nl\", \"term\": \"gevonden\", \"tfidf\": 0.5298540279275926}, {\"document\": \"huystendonck.nl\", \"term\": \"gevonden\", \"tfidf\": 0.5298067970636484}, {\"document\": \"huystendonck.nl\", \"term\": \"gevonden\", \"tfidf\": 0.5298290814338329}, {\"document\": \"huystendonck.nl\", \"term\": \"gevonden\", \"tfidf\": 0.5298511143894823}, {\"document\": \"kasteelamerongen.nl\", \"term\": \"vriendenkring\", \"tfidf\": 0.6887824423595824}, {\"document\": \"kasteelamerongen.nl\", \"term\": \"amerongen\", \"tfidf\": 0.6560190866355994}, {\"document\": \"kasteelamerongen.nl\", \"term\": \"amerongen\", \"tfidf\": 0.6485096784829367}, {\"document\": \"kasteelamerongen.nl\", \"term\": \"amerongen\", \"tfidf\": 0.5210600294625789}, {\"document\": \"kasteelamerongen.nl\", \"term\": \"persoonsgegevens\", \"tfidf\": 0.5095681136016461}, {\"document\": \"kasteelamerongen.nl\", \"term\": \"amerongen\", \"tfidf\": 0.5051564317377396}, {\"document\": \"kasteelamerongen.nl\", \"term\": \"amerongen\", \"tfidf\": 0.4953778745816882}, {\"document\": \"kasteelamerongen.nl\", \"term\": \"amerongen\", \"tfidf\": 0.4917328054244364}, {\"document\": \"kasteelamerongen.nl\", \"term\": \"amerongen\", \"tfidf\": 0.4790184164956015}, {\"document\": \"kasteelamerongen.nl\", \"term\": \"tuin\", \"tfidf\": 0.4611057056921816}, {\"document\": \"kasteelboxmeer.nl\", \"term\": \"boxmeer\", \"tfidf\": 0.40234746371751623}, {\"document\": \"kasteelboxmeer.nl\", \"term\": \"kasteelboxmeer\", \"tfidf\": 0.3934906245899677}, {\"document\": \"kasteelboxmeer.nl\", \"term\": \"plafond\", \"tfidf\": 0.3872860304518198}, {\"document\": \"kasteelboxmeer.nl\", \"term\": \"boxmeer\", \"tfidf\": 0.38671697269822514}, {\"document\": \"kasteelboxmeer.nl\", \"term\": \"behandeling\", \"tfidf\": 0.38573242637148986}, {\"document\": \"kasteelboxmeer.nl\", \"term\": \"spoedig\", \"tfidf\": 0.35763113089523585}, {\"document\": \"kasteelboxmeer.nl\", \"term\": \"julie\", \"tfidf\": 0.35398229515418755}, {\"document\": \"kasteelboxmeer.nl\", \"term\": \"postel\", \"tfidf\": 0.3539667697677517}, {\"document\": \"kasteelboxmeer.nl\", \"term\": \"zusters\", \"tfidf\": 0.3539004860483366}, {\"document\": \"kasteelboxmeer.nl\", \"term\": \"rondleiding\", \"tfidf\": 0.3118831024372208}, {\"document\": \"kasteeldehaar.nl\", \"term\": \"jullie\", \"tfidf\": 0.6430981744628196}, {\"document\": \"kasteeldehaar.nl\", \"term\": \"totaalbedrag\", \"tfidf\": 0.6352496790046116}, {\"document\": \"kasteeldehaar.nl\", \"term\": \"nieuwsbrief\", \"tfidf\": 0.6124440699566488}, {\"document\": \"kasteeldehaar.nl\", \"term\": \"cookies\", \"tfidf\": 0.6065037613022322}, {\"document\": \"kasteeldehaar.nl\", \"term\": \"cookies\", \"tfidf\": 0.6056244986592892}, {\"document\": \"kasteeldehaar.nl\", \"term\": \"cookies\", \"tfidf\": 0.6042113510863233}, {\"document\": \"kasteeldehaar.nl\", \"term\": \"cookies\", \"tfidf\": 0.6031732228670545}, {\"document\": \"kasteeldehaar.nl\", \"term\": \"cookies\", \"tfidf\": 0.6026720097542532}, {\"document\": \"kasteeldehaar.nl\", \"term\": \"cookies\", \"tfidf\": 0.6019631355667704}, {\"document\": \"kasteeldehaar.nl\", \"term\": \"cookies\", \"tfidf\": 0.5985283169756122}, {\"document\": \"kasteeldever.nl\", \"term\": \"dever\", \"tfidf\": 0.6788218345180982}, {\"document\": \"kasteeldever.nl\", \"term\": \"lisse\", \"tfidf\": 0.19547772134855468}, {\"document\": \"kasteeldever.nl\", \"term\": \"huys\", \"tfidf\": 0.16305303888172165}, {\"document\": \"kasteeldever.nl\", \"term\": \"matenesse\", \"tfidf\": 0.13578167071790695}, {\"document\": \"kasteeldever.nl\", \"term\": \"voorhuis\", \"tfidf\": 0.11725770631773741}, {\"document\": \"kasteeldever.nl\", \"term\": \"johan\", \"tfidf\": 0.11158818463022765}, {\"document\": \"kasteeldever.nl\", \"term\": \"ru\\u00efne\", \"tfidf\": 0.10420648188846506}, {\"document\": \"kasteeldever.nl\", \"term\": \"1699\", \"tfidf\": 0.09054412097813849}, {\"document\": \"kasteeldever.nl\", \"term\": \"heereman\", \"tfidf\": 0.09057026984633645}, {\"document\": \"kasteeldever.nl\", \"term\": \"hulkenberg\", \"tfidf\": 0.09058135632577197}, {\"document\": \"kasteeldoornenburg.nl\", \"term\": \"avondvierdaagse\", \"tfidf\": 0.701245204554242}, {\"document\": \"kasteeldoornenburg.nl\", \"term\": \"24\", \"tfidf\": 0.6593932348829024}, {\"document\": \"kasteeldoornenburg.nl\", \"term\": \"fado\", \"tfidf\": 0.6012214164226835}, {\"document\": \"kasteeldoornenburg.nl\", \"term\": \"monstrans\", \"tfidf\": 0.5630928585975148}, {\"document\": \"kasteeldoornenburg.nl\", \"term\": \"doornenburg\", \"tfidf\": 0.5629608088685595}, {\"document\": \"kasteeldoornenburg.nl\", \"term\": \"mei\", \"tfidf\": 0.53374316448832}, {\"document\": \"kasteeldoornenburg.nl\", \"term\": \"formulier\", \"tfidf\": 0.4881998436771999}, {\"document\": \"kasteeldoornenburg.nl\", \"term\": \"vereist\", \"tfidf\": 0.4861836890139192}, {\"document\": \"kasteeldoornenburg.nl\", \"term\": \"doornenburg\", \"tfidf\": 0.4832099565004219}, {\"document\": \"kasteeldoornenburg.nl\", \"term\": \"kasteelrecept\", \"tfidf\": 0.4795023188818947}, {\"document\": \"kasteelduivenvoorde.nl\", \"term\": \"winkelwagen\", \"tfidf\": 0.7844407620201591}, {\"document\": \"kasteelduivenvoorde.nl\", \"term\": \"duivenvoorde\", \"tfidf\": 0.7005781112613452}, {\"document\": \"kasteelduivenvoorde.nl\", \"term\": \"koestal\", \"tfidf\": 0.6849716077564623}, {\"document\": \"kasteelduivenvoorde.nl\", \"term\": \"duivenvoorde\", \"tfidf\": 0.6580882264198383}, {\"document\": \"kasteelduivenvoorde.nl\", \"term\": \"duivenvoorde\", \"tfidf\": 0.651076877094561}, {\"document\": \"kasteelduivenvoorde.nl\", \"term\": \"duivenvoorde\", \"tfidf\": 0.6377740246755014}, {\"document\": \"kasteelduivenvoorde.nl\", \"term\": \"cookies\", \"tfidf\": 0.6226994641784727}, {\"document\": \"kasteelduivenvoorde.nl\", \"term\": \"00\", \"tfidf\": 0.552592601453612}, {\"document\": \"kasteelduivenvoorde.nl\", \"term\": \"duivenvoorde\", \"tfidf\": 0.5492964604756972}, {\"document\": \"kasteelduivenvoorde.nl\", \"term\": \"toevoegen\", \"tfidf\": 0.5312543991044246}, {\"document\": \"kasteelgeldrop.nl\", \"term\": \"040\", \"tfidf\": 0.4412642213583481}, {\"document\": \"kasteelgeldrop.nl\", \"term\": \"tel\", \"tfidf\": 0.3276193177799705}, {\"document\": \"kasteelgeldrop.nl\", \"term\": \"geldrop\", \"tfidf\": 0.323524060279139}, {\"document\": \"kasteelgeldrop.nl\", \"term\": \"mail\", \"tfidf\": 0.21919220033621903}, {\"document\": \"kasteelgeldrop.nl\", \"term\": \"2801230\", \"tfidf\": 0.1703283079485028}, {\"document\": \"kasteelgeldrop.nl\", \"term\": \"2858252\", \"tfidf\": 0.17037827044220175}, {\"document\": \"kasteelgeldrop.nl\", \"term\": \"5662\", \"tfidf\": 0.1704106030452609}, {\"document\": \"kasteelgeldrop.nl\", \"term\": \"7874561\", \"tfidf\": 0.17032522218413196}, {\"document\": \"kasteelgeldrop.nl\", \"term\": \"geldroprecurring\", \"tfidf\": 0.1703642341729762}, {\"document\": \"kasteelgeldrop.nl\", \"term\": \"helze\", \"tfidf\": 0.17037815422849442}, {\"document\": \"kasteelheeze.nl\", \"term\": \"heeze\", \"tfidf\": 0.8648890894063003}, {\"document\": \"kasteelheeze.nl\", \"term\": \"heeze\", \"tfidf\": 0.7714186719952048}, {\"document\": \"kasteelheeze.nl\", \"term\": \"heeze\", \"tfidf\": 0.7564211045775953}, {\"document\": \"kasteelheeze.nl\", \"term\": \"rally\", \"tfidf\": 0.742032418140201}, {\"document\": \"kasteelheeze.nl\", \"term\": \"nieuwsbrief\", \"tfidf\": 0.7314785077777386}, {\"document\": \"kasteelheeze.nl\", \"term\": \"heeze\", \"tfidf\": 0.7202098134696727}, {\"document\": \"kasteelheeze.nl\", \"term\": \"organisatie\", \"tfidf\": 0.6989972953164223}, {\"document\": \"kasteelheeze.nl\", \"term\": \"voorbeeldarrangement\", \"tfidf\": 0.6586973029359697}, {\"document\": \"kasteelheeze.nl\", \"term\": \"trouwen\", \"tfidf\": 0.5917659703031762}, {\"document\": \"kasteelheeze.nl\", \"term\": \"heeze\", \"tfidf\": 0.5709834195243487}, {\"document\": \"kasteelhoensbroek.nl\", \"term\": \"hoensbroek\", \"tfidf\": 0.6495976066975435}, {\"document\": \"kasteelhoensbroek.nl\", \"term\": \"multimediale\", \"tfidf\": 0.3248469668274518}, {\"document\": \"kasteelhoensbroek.nl\", \"term\": \"versleutelde\", \"tfidf\": 0.3248241658009598}, {\"document\": \"kasteelhoensbroek.nl\", \"term\": \"betoverende\", \"tfidf\": 0.2526442622001923}, {\"document\": \"kasteelhoensbroek.nl\", \"term\": \"limburg\", \"tfidf\": 0.20112090049932874}, {\"document\": \"kasteelhoensbroek.nl\", \"term\": \"zuid\", \"tfidf\": 0.2002547201657032}, {\"document\": \"kasteelhoensbroek.nl\", \"term\": \"prijzen\", \"tfidf\": 0.19668328312004602}, {\"document\": \"kasteelhoensbroek.nl\", \"term\": \"tour\", \"tfidf\": 0.18322383130516098}, {\"document\": \"kasteelhoensbroek.nl\", \"term\": \"wereld\", \"tfidf\": 0.18149501578086966}, {\"document\": \"kasteelhoensbroek.nl\", \"term\": \"kasteel\", \"tfidf\": 0.1527302207065313}, {\"document\": \"kasteelkeukenhof.nl\", \"term\": \"keukenhof\", \"tfidf\": 0.7421160379555525}, {\"document\": \"kasteelkeukenhof.nl\", \"term\": \"hofboerderij\", \"tfidf\": 0.7034170251971771}, {\"document\": \"kasteelkeukenhof.nl\", \"term\": \"keukenhof\", \"tfidf\": 0.6381672990661934}, {\"document\": \"kasteelkeukenhof.nl\", \"term\": \"keukenhof\", \"tfidf\": 0.4304925872219671}, {\"document\": \"kasteelkeukenhof.nl\", \"term\": \"dahliatuin\", \"tfidf\": 0.41160505299478267}, {\"document\": \"kasteelkeukenhof.nl\", \"term\": \"keukenhof\", \"tfidf\": 0.40509422877221046}, {\"document\": \"kasteelkeukenhof.nl\", \"term\": \"keukenhof\", \"tfidf\": 0.3978670587200521}, {\"document\": \"kasteelkeukenhof.nl\", \"term\": \"dahliasoorten\", \"tfidf\": 0.39071035522353353}, {\"document\": \"kasteelkeukenhof.nl\", \"term\": \"dahlia\", \"tfidf\": 0.3889157728816942}, {\"document\": \"kasteelkeukenhof.nl\", \"term\": \"kinderboerderij\", \"tfidf\": 0.38746328236230065}, {\"document\": \"kasteelnemerlaer.nl\", \"term\": \"nemerlaer\", \"tfidf\": 0.7898835421087185}, {\"document\": \"kasteelnemerlaer.nl\", \"term\": \"officiele\", \"tfidf\": 0.3949300623655603}, {\"document\": \"kasteelnemerlaer.nl\", \"term\": \"webstek\", \"tfidf\": 0.3950014010917381}, {\"document\": \"kasteelnemerlaer.nl\", \"term\": \"kasteel\", \"tfidf\": 0.1856714617128267}, {\"document\": \"kasteelnemerlaer.nl\", \"term\": \"welkom\", \"tfidf\": 0.17269532476185126}, {\"document\": \"kasteelnemerlaer.nl\", \"term\": \"00\", \"tfidf\": 9.837248742865768e-05}, {\"document\": \"kasteelnemerlaer.nl\", \"term\": \"000\", \"tfidf\": 5.289526907361704e-05}, {\"document\": \"kasteelnemerlaer.nl\", \"term\": \"0000\", \"tfidf\": 6.363281650190864e-05}, {\"document\": \"kasteelnemerlaer.nl\", \"term\": \"0000000561\", \"tfidf\": 9.197376030793974e-05}, {\"document\": \"kasteelnemerlaer.nl\", \"term\": \"0000000575\", \"tfidf\": 4.6795063535546204e-05}, {\"document\": \"kasteelparkborn.nl\", \"term\": \"donatie\", \"tfidf\": 0.837920482180418}, {\"document\": \"kasteelparkborn.nl\", \"term\": \"kroonkraanvogels\", \"tfidf\": 0.7448433912014192}, {\"document\": \"kasteelparkborn.nl\", \"term\": \"ouessantlammetje\", \"tfidf\": 0.6808923837389731}, {\"document\": \"kasteelparkborn.nl\", \"term\": \"spreekbeurt\", \"tfidf\": 0.6590791658298557}, {\"document\": \"kasteelparkborn.nl\", \"term\": \"jaarkaart\", \"tfidf\": 0.6459045591102575}, {\"document\": \"kasteelparkborn.nl\", \"term\": \"damherten\", \"tfidf\": 0.637415469636826}, {\"document\": \"kasteelparkborn.nl\", \"term\": \"otters\", \"tfidf\": 0.6280435014717646}, {\"document\": \"kasteelparkborn.nl\", \"term\": \"yasmine\", \"tfidf\": 0.6260077188100716}, {\"document\": \"kasteelparkborn.nl\", \"term\": \"muurtjes\", \"tfidf\": 0.6120066954038728}, {\"document\": \"kasteelparkborn.nl\", \"term\": \"alfons\", \"tfidf\": 0.610812394255938}, {\"document\": \"kasteelradboud.nl\", \"term\": \"sorteer\", \"tfidf\": 0.7461850884101786}, {\"document\": \"kasteelradboud.nl\", \"term\": \"sorteer\", \"tfidf\": 0.7446347246996995}, {\"document\": \"kasteelradboud.nl\", \"term\": \"sorteer\", \"tfidf\": 0.7425697566925983}, {\"document\": \"kasteelradboud.nl\", \"term\": \"sorteer\", \"tfidf\": 0.7425929238127685}, {\"document\": \"kasteelradboud.nl\", \"term\": \"sorteer\", \"tfidf\": 0.7422634694502424}, {\"document\": \"kasteelradboud.nl\", \"term\": \"sorteer\", \"tfidf\": 0.7416007823654632}, {\"document\": \"kasteelradboud.nl\", \"term\": \"sorteer\", \"tfidf\": 0.7413608651398849}, {\"document\": \"kasteelradboud.nl\", \"term\": \"sorteer\", \"tfidf\": 0.7409784470122345}, {\"document\": \"kasteelradboud.nl\", \"term\": \"sorteer\", \"tfidf\": 0.7407385073156498}, {\"document\": \"kasteelradboud.nl\", \"term\": \"sorteer\", \"tfidf\": 0.7407213432599201}, {\"document\": \"kasteelteylingen.nl\", \"term\": \"huisreglement\", \"tfidf\": 0.8163051651780314}, {\"document\": \"kasteelteylingen.nl\", \"term\": \"huisreglement\", \"tfidf\": 0.7708440250134027}, {\"document\": \"kasteelteylingen.nl\", \"term\": \"teylingen\", \"tfidf\": 0.6650267693723291}, {\"document\": \"kasteelteylingen.nl\", \"term\": \"beleidsplan\", \"tfidf\": 0.650276488851238}, {\"document\": \"kasteelteylingen.nl\", \"term\": \"doorgaan\", \"tfidf\": 0.6217244688995253}, {\"document\": \"kasteelteylingen.nl\", \"term\": \"2021\", \"tfidf\": 0.6134287295780055}, {\"document\": \"kasteelteylingen.nl\", \"term\": \"teylingen\", \"tfidf\": 0.6001585104953256}, {\"document\": \"kasteelteylingen.nl\", \"term\": \"2020\", \"tfidf\": 0.5968539557227455}, {\"document\": \"kasteelteylingen.nl\", \"term\": \"zoomen\", \"tfidf\": 0.5900377776177266}, {\"document\": \"kasteelteylingen.nl\", \"term\": \"zoomen\", \"tfidf\": 0.5899553258343525}, {\"document\": \"kasteeltuinassumburg.nl\", \"term\": \"nectarindex\", \"tfidf\": 0.7174363457174798}, {\"document\": \"kasteeltuinassumburg.nl\", \"term\": \"cultuurhuis\", \"tfidf\": 0.6510264513314725}, {\"document\": \"kasteeltuinassumburg.nl\", \"term\": \"beurr\\u00e9\", \"tfidf\": 0.5813703942701312}, {\"document\": \"kasteeltuinassumburg.nl\", \"term\": \"kasteeltuin\", \"tfidf\": 0.4882787477635923}, {\"document\": \"kasteeltuinassumburg.nl\", \"term\": \"kasteeltuin\", \"tfidf\": 0.47539251806592997}, {\"document\": \"kasteeltuinassumburg.nl\", \"term\": \"maatschappelijke\", \"tfidf\": 0.47284683539289324}, {\"document\": \"kasteeltuinassumburg.nl\", \"term\": \"biodiversiteit\", \"tfidf\": 0.4697393042400652}, {\"document\": \"kasteeltuinassumburg.nl\", \"term\": \"leskist\", \"tfidf\": 0.46628766806205085}, {\"document\": \"kasteeltuinassumburg.nl\", \"term\": \"workshops\", \"tfidf\": 0.4451898908474359}, {\"document\": \"kasteeltuinassumburg.nl\", \"term\": \"beeld\", \"tfidf\": 0.4446265612165494}, {\"document\": \"kasteeltuinen.nl\", \"term\": \"gel\\u00e4ndeplan\", \"tfidf\": 0.7730071170512118}, {\"document\": \"kasteeltuinen.nl\", \"term\": \"496525095\", \"tfidf\": 0.7482444837200729}, {\"document\": \"kasteeltuinen.nl\", \"term\": \"314902031\", \"tfidf\": 0.7481933787265792}, {\"document\": \"kasteeltuinen.nl\", \"term\": \"3877071\", \"tfidf\": 0.7480893482179922}, {\"document\": \"kasteeltuinen.nl\", \"term\": \"258153043\", \"tfidf\": 0.7476741804284355}, {\"document\": \"kasteeltuinen.nl\", \"term\": \"enviso\", \"tfidf\": 0.6960019218861125}, {\"document\": \"kasteeltuinen.nl\", \"term\": \"aaiweide\", \"tfidf\": 0.6931855636789114}, {\"document\": \"kasteeltuinen.nl\", \"term\": \"plattegrond\", \"tfidf\": 0.6792008170886219}, {\"document\": \"kasteeltuinen.nl\", \"term\": \"kopen\", \"tfidf\": 0.6645264812203142}, {\"document\": \"kasteeltuinen.nl\", \"term\": \"lit\", \"tfidf\": 0.6631580821387}, {\"document\": \"kasteelvalkenburg.nl\", \"term\": \"valkenburg\", \"tfidf\": 0.6088741562452546}, {\"document\": \"kasteelvalkenburg.nl\", \"term\": \"valkenburg\", \"tfidf\": 0.6053772498024393}, {\"document\": \"kasteelvalkenburg.nl\", \"term\": \"valkenburg\", \"tfidf\": 0.5133941213267946}, {\"document\": \"kasteelvalkenburg.nl\", \"term\": \"valkenburg\", \"tfidf\": 0.46802666913776786}, {\"document\": \"kasteelvalkenburg.nl\", \"term\": \"kasteelru\\u00efne\", \"tfidf\": 0.46617884792417635}, {\"document\": \"kasteelvalkenburg.nl\", \"term\": \"grot\", \"tfidf\": 0.463411843940616}, {\"document\": \"kasteelvalkenburg.nl\", \"term\": \"kasteelru\\u00efne\", \"tfidf\": 0.46121894463648067}, {\"document\": \"kasteelvalkenburg.nl\", \"term\": \"grotbezoek\", \"tfidf\": 0.4609779450104847}, {\"document\": \"kasteelvalkenburg.nl\", \"term\": \"valkenburg\", \"tfidf\": 0.45119070035922404}, {\"document\": \"kasteelvalkenburg.nl\", \"term\": \"cookies\", \"tfidf\": 0.4365435740224301}, {\"document\": \"kasteelwarmelo.nl\", \"term\": \"warmelo\", \"tfidf\": 0.6838420439300656}, {\"document\": \"kasteelwarmelo.nl\", \"term\": \"broodje\", \"tfidf\": 0.509764520268325}, {\"document\": \"kasteelwarmelo.nl\", \"term\": \"diepenheim\", \"tfidf\": 0.28802799499208825}, {\"document\": \"kasteelwarmelo.nl\", \"term\": \"zandsculpturen\", \"tfidf\": 0.2880153817723655}, {\"document\": \"kasteelwarmelo.nl\", \"term\": \"00\", \"tfidf\": 0.26855466977256803}, {\"document\": \"kasteelwarmelo.nl\", \"term\": \"50\", \"tfidf\": 0.25386122424876023}, {\"document\": \"kasteelwarmelo.nl\", \"term\": \"80\", \"tfidf\": 0.2419666602349049}, {\"document\": \"kasteelwarmelo.nl\", \"term\": \"ml\", \"tfidf\": 0.21501357546356148}, {\"document\": \"kasteelwarmelo.nl\", \"term\": \"twents\", \"tfidf\": 0.20692562802702483}, {\"document\": \"kasteelwarmelo.nl\", \"term\": \"flesje\", \"tfidf\": 0.19555239538581526}, {\"document\": \"kasteelwijlre.nl\", \"term\": \"wijlre\", \"tfidf\": 0.8037972845843392}, {\"document\": \"kasteelwijlre.nl\", \"term\": \"wijlre\", \"tfidf\": 0.7923287145123671}, {\"document\": \"kasteelwijlre.nl\", \"term\": \"wijlre\", \"tfidf\": 0.7689144922048113}, {\"document\": \"kasteelwijlre.nl\", \"term\": \"lou\", \"tfidf\": 0.6764471417290134}, {\"document\": \"kasteelwijlre.nl\", \"term\": \"buitenplaats\", \"tfidf\": 0.5494496090695237}, {\"document\": \"kasteelwijlre.nl\", \"term\": \"lou\", \"tfidf\": 0.5420628235494395}, {\"document\": \"kasteelwijlre.nl\", \"term\": \"buitenplaats\", \"tfidf\": 0.5416098549784918}, {\"document\": \"kasteelwijlre.nl\", \"term\": \"buitenplaats\", \"tfidf\": 0.5256293268348313}, {\"document\": \"kasteelwijlre.nl\", \"term\": \"diederix\", \"tfidf\": 0.47813814763063817}, {\"document\": \"kasteelwijlre.nl\", \"term\": \"staaveren\", \"tfidf\": 0.4694265647358988}, {\"document\": \"landgoedboschenvaart.nl\", \"term\": \"spring\", \"tfidf\": 0.7209080992279082}, {\"document\": \"landgoedboschenvaart.nl\", \"term\": \"spring\", \"tfidf\": 0.7170036835748624}, {\"document\": \"landgoedboschenvaart.nl\", \"term\": \"drenthe\", \"tfidf\": 0.5166094809938743}, {\"document\": \"landgoedboschenvaart.nl\", \"term\": \"persoonsgegevens\", \"tfidf\": 0.49491320167119746}, {\"document\": \"landgoedboschenvaart.nl\", \"term\": \"stookhok\", \"tfidf\": 0.47696423280218725}, {\"document\": \"landgoedboschenvaart.nl\", \"term\": \"jaarverslag\", \"tfidf\": 0.44775507273840165}, {\"document\": \"landgoedboschenvaart.nl\", \"term\": \"vaart\", \"tfidf\": 0.3959955298746204}, {\"document\": \"landgoedboschenvaart.nl\", \"term\": \"bosch\", \"tfidf\": 0.3820944029141073}, {\"document\": \"landgoedboschenvaart.nl\", \"term\": \"vaart\", \"tfidf\": 0.3761045321763036}, {\"document\": \"landgoedboschenvaart.nl\", \"term\": \"boerderij\", \"tfidf\": 0.365422977175443}, {\"document\": \"landgoedbouvigne.nl\", \"term\": \"bouvigne\", \"tfidf\": 0.6627537932535515}, {\"document\": \"landgoedbouvigne.nl\", \"term\": \"bouvigne\", \"tfidf\": 0.6058939434064716}, {\"document\": \"landgoedbouvigne.nl\", \"term\": \"neerhuis\", \"tfidf\": 0.5942761102827264}, {\"document\": \"landgoedbouvigne.nl\", \"term\": \"eeuw\", \"tfidf\": 0.5307692698310792}, {\"document\": \"landgoedbouvigne.nl\", \"term\": \"bouvigne\", \"tfidf\": 0.5206604114878752}, {\"document\": \"landgoedbouvigne.nl\", \"term\": \"bouvigne\", \"tfidf\": 0.5057176098565624}, {\"document\": \"landgoedbouvigne.nl\", \"term\": \"kapel\", \"tfidf\": 0.48450371519874674}, {\"document\": \"landgoedbouvigne.nl\", \"term\": \"bouvigne\", \"tfidf\": 0.48257350704026725}, {\"document\": \"landgoedbouvigne.nl\", \"term\": \"prins\", \"tfidf\": 0.4720651282006401}, {\"document\": \"landgoedbouvigne.nl\", \"term\": \"boomgaard\", \"tfidf\": 0.4646285278376213}, {\"document\": \"landgoedoldenhof.nl\", \"term\": \"oldenhof\", \"tfidf\": 0.6999712551245036}, {\"document\": \"landgoedoldenhof.nl\", \"term\": \"oldenhof\", \"tfidf\": 0.6405923769514723}, {\"document\": \"landgoedoldenhof.nl\", \"term\": \"oldenhof\", \"tfidf\": 0.6079566271271771}, {\"document\": \"landgoedoldenhof.nl\", \"term\": \"oldenhof\", \"tfidf\": 0.5873594066776568}, {\"document\": \"landgoedoldenhof.nl\", \"term\": \"oldenhof\", \"tfidf\": 0.5474939903737625}, {\"document\": \"landgoedoldenhof.nl\", \"term\": \"oldenhof\", \"tfidf\": 0.5430233144821218}, {\"document\": \"landgoedoldenhof.nl\", \"term\": \"oldenhof\", \"tfidf\": 0.5403616962097487}, {\"document\": \"landgoedoldenhof.nl\", \"term\": \"oldenhof\", \"tfidf\": 0.5051080170547132}, {\"document\": \"landgoedoldenhof.nl\", \"term\": \"nldoet\", \"tfidf\": 0.4989309236444444}, {\"document\": \"landgoedoldenhof.nl\", \"term\": \"oldenhof\", \"tfidf\": 0.49817030936411777}, {\"document\": \"landgoedvilsteren.nl\", \"term\": \"erfpacht\", \"tfidf\": 0.7540122096261328}, {\"document\": \"landgoedvilsteren.nl\", \"term\": \"molen\", \"tfidf\": 0.6769945792456421}, {\"document\": \"landgoedvilsteren.nl\", \"term\": \"vilsteren\", \"tfidf\": 0.6724762635132443}, {\"document\": \"landgoedvilsteren.nl\", \"term\": \"stikkebelt\", \"tfidf\": 0.6578964788276525}, {\"document\": \"landgoedvilsteren.nl\", \"term\": \"resonate\", \"tfidf\": 0.657124525573297}, {\"document\": \"landgoedvilsteren.nl\", \"term\": \"wifi\", \"tfidf\": 0.6480644790585671}, {\"document\": \"landgoedvilsteren.nl\", \"term\": \"estates\", \"tfidf\": 0.6390978000626303}, {\"document\": \"landgoedvilsteren.nl\", \"term\": \"kampeerterrein\", \"tfidf\": 0.6195916316722568}, {\"document\": \"landgoedvilsteren.nl\", \"term\": \"merk\", \"tfidf\": 0.5821838723913402}, {\"document\": \"landgoedvilsteren.nl\", \"term\": \"landgoederen\", \"tfidf\": 0.5797881204280084}, {\"document\": \"menkemaborg.nl\", \"term\": \"cookies\", \"tfidf\": 0.31685912921502385}, {\"document\": \"menkemaborg.nl\", \"term\": \"are\", \"tfidf\": 0.27864521324505975}, {\"document\": \"menkemaborg.nl\", \"term\": \"as\", \"tfidf\": 0.20693985828201333}, {\"document\": \"menkemaborg.nl\", \"term\": \"you\", \"tfidf\": 0.19252882362139523}, {\"document\": \"menkemaborg.nl\", \"term\": \"basic\", \"tfidf\": 0.1920694365269902}, {\"document\": \"menkemaborg.nl\", \"term\": \"categorized\", \"tfidf\": 0.19204219941327316}, {\"document\": \"menkemaborg.nl\", \"term\": \"efficiently\", \"tfidf\": 0.1920121605255282}, {\"document\": \"menkemaborg.nl\", \"term\": \"functionalities\", \"tfidf\": 0.1920595893123089}, {\"document\": \"menkemaborg.nl\", \"term\": \"category\", \"tfidf\": 0.18236447619115892}, {\"document\": \"menkemaborg.nl\", \"term\": \"detailed\", \"tfidf\": 0.18238663253167778}, {\"document\": \"mensinge.nl\", \"term\": \"mensinge\", \"tfidf\": 0.6997053709383968}, {\"document\": \"mensinge.nl\", \"term\": \"dhr\", \"tfidf\": 0.619204636324065}, {\"document\": \"mensinge.nl\", \"term\": \"jetses\", \"tfidf\": 0.5995091011935817}, {\"document\": \"mensinge.nl\", \"term\": \"mensinge\", \"tfidf\": 0.5261697661228615}, {\"document\": \"mensinge.nl\", \"term\": \"mensinge\", \"tfidf\": 0.5087319572646646}, {\"document\": \"mensinge.nl\", \"term\": \"mensinge\", \"tfidf\": 0.5075282409813165}, {\"document\": \"mensinge.nl\", \"term\": \"duiven\", \"tfidf\": 0.4807765011427733}, {\"document\": \"mensinge.nl\", \"term\": \"mensinge\", \"tfidf\": 0.4750801478707905}, {\"document\": \"mensinge.nl\", \"term\": \"mensinge\", \"tfidf\": 0.47228294621898437}, {\"document\": \"mensinge.nl\", \"term\": \"mensinge\", \"tfidf\": 0.4690160195247201}, {\"document\": \"middachten.nl\", \"term\": \"middachten\", \"tfidf\": 0.766367622536247}, {\"document\": \"middachten.nl\", \"term\": \"middachten\", \"tfidf\": 0.6385030415200631}, {\"document\": \"middachten.nl\", \"term\": \"middachten\", \"tfidf\": 0.5321952109096151}, {\"document\": \"middachten.nl\", \"term\": \"middachten\", \"tfidf\": 0.5248025536308568}, {\"document\": \"middachten.nl\", \"term\": \"middachten\", \"tfidf\": 0.5090340044129641}, {\"document\": \"middachten.nl\", \"term\": \"middachten\", \"tfidf\": 0.4745576764984087}, {\"document\": \"middachten.nl\", \"term\": \"oranjerie\", \"tfidf\": 0.4648403751041734}, {\"document\": \"middachten.nl\", \"term\": \"middachten\", \"tfidf\": 0.4621299881675037}, {\"document\": \"middachten.nl\", \"term\": \"middachten\", \"tfidf\": 0.45741926496856683}, {\"document\": \"middachten.nl\", \"term\": \"steeg\", \"tfidf\": 0.42725024407761486}, {\"document\": \"muiderslot.nl\", \"term\": \"winterkasteel\", \"tfidf\": 0.8684051230712807}, {\"document\": \"muiderslot.nl\", \"term\": \"aflevering\", \"tfidf\": 0.7891705841776533}, {\"document\": \"muiderslot.nl\", \"term\": \"onderwijs\", \"tfidf\": 0.754608158048342}, {\"document\": \"muiderslot.nl\", \"term\": \"collectiebeleid\", \"tfidf\": 0.7524486427929631}, {\"document\": \"muiderslot.nl\", \"term\": \"nieuws\", \"tfidf\": 0.7432823583767986}, {\"document\": \"muiderslot.nl\", \"term\": \"hakim\", \"tfidf\": 0.7165088360841936}, {\"document\": \"muiderslot.nl\", \"term\": \"bruikleen\", \"tfidf\": 0.6959243712548802}, {\"document\": \"muiderslot.nl\", \"term\": \"ananas\", \"tfidf\": 0.6852993538078535}, {\"document\": \"muiderslot.nl\", \"term\": \"citroen\", \"tfidf\": 0.6712333222659861}, {\"document\": \"muiderslot.nl\", \"term\": \"password\", \"tfidf\": 0.6652225663572936}, {\"document\": \"museumdefundatie.nl\", \"term\": \"annual\", \"tfidf\": 0.7158825561639182}, {\"document\": \"museumdefundatie.nl\", \"term\": \"titel\", \"tfidf\": 0.6514964717739105}, {\"document\": \"museumdefundatie.nl\", \"term\": \"rauch\", \"tfidf\": 0.6070663586936123}, {\"document\": \"museumdefundatie.nl\", \"term\": \"friends\", \"tfidf\": 0.5998122298538773}, {\"document\": \"museumdefundatie.nl\", \"term\": \"pm\", \"tfidf\": 0.5868573802503829}, {\"document\": \"museumdefundatie.nl\", \"term\": \"press\", \"tfidf\": 0.5733592755752631}, {\"document\": \"museumdefundatie.nl\", \"term\": \"press\", \"tfidf\": 0.5552976851905589}, {\"document\": \"museumdefundatie.nl\", \"term\": \"fundatiefusions\", \"tfidf\": 0.5485001274237314}, {\"document\": \"museumdefundatie.nl\", \"term\": \"fundatiefusions\", \"tfidf\": 0.5484514012559479}, {\"document\": \"museumdefundatie.nl\", \"term\": \"june\", \"tfidf\": 0.5250507984689315}, {\"document\": \"museummartena.nl\", \"term\": \"martena\", \"tfidf\": 0.47467184444302796}, {\"document\": \"museummartena.nl\", \"term\": \"franeker\", \"tfidf\": 0.4153668555492575}, {\"document\": \"museummartena.nl\", \"term\": \"museum\", \"tfidf\": 0.2944588960576876}, {\"document\": \"museummartena.nl\", \"term\": \"vvv\", \"tfidf\": 0.16452605683156044}, {\"document\": \"museummartena.nl\", \"term\": \"informatiepunt\", \"tfidf\": 0.15357180579352123}, {\"document\": \"museummartena.nl\", \"term\": \"flows\", \"tfidf\": 0.12986298423218923}, {\"document\": \"museummartena.nl\", \"term\": \"genoaten\", \"tfidf\": 0.12989494288281814}, {\"document\": \"museummartena.nl\", \"term\": \"stadskasteel\", \"tfidf\": 0.12984486771406983}, {\"document\": \"museummartena.nl\", \"term\": \"wy\", \"tfidf\": 0.12986948647901952}, {\"document\": \"museummartena.nl\", \"term\": \"updates\", \"tfidf\": 0.12335482805168921}, {\"document\": \"museumnienoord.nl\", \"term\": \"sponsorkliks\", \"tfidf\": 0.7615071567170454}, {\"document\": \"museumnienoord.nl\", \"term\": \"cookies\", \"tfidf\": 0.663857012155843}, {\"document\": \"museumnienoord.nl\", \"term\": \"persoonsgegevens\", \"tfidf\": 0.578126145806787}, {\"document\": \"museumnienoord.nl\", \"term\": \"nienoord\", \"tfidf\": 0.5562752034147738}, {\"document\": \"museumnienoord.nl\", \"term\": \"nienoord\", \"tfidf\": 0.5315816459324597}, {\"document\": \"museumnienoord.nl\", \"term\": \"nienoord\", \"tfidf\": 0.5275557547975583}, {\"document\": \"museumnienoord.nl\", \"term\": \"fiep\", \"tfidf\": 0.5219690175622727}, {\"document\": \"museumnienoord.nl\", \"term\": \"klompenmuseum\", \"tfidf\": 0.5036718504383049}, {\"document\": \"museumnienoord.nl\", \"term\": \"nienoord\", \"tfidf\": 0.4959416047995797}, {\"document\": \"museumnienoord.nl\", \"term\": \"nienoord\", \"tfidf\": 0.48040644765122964}, {\"document\": \"poptaslot.nl\", \"term\": \"poptaslot\", \"tfidf\": 0.6753312186491987}, {\"document\": \"poptaslot.nl\", \"term\": \"poptaslot\", \"tfidf\": 0.6066912887819141}, {\"document\": \"poptaslot.nl\", \"term\": \"poptaslot\", \"tfidf\": 0.5686786046557601}, {\"document\": \"poptaslot.nl\", \"term\": \"kaarten\", \"tfidf\": 0.48618031968114755}, {\"document\": \"poptaslot.nl\", \"term\": \"poptaslot\", \"tfidf\": 0.4577051062117671}, {\"document\": \"poptaslot.nl\", \"term\": \"popta\", \"tfidf\": 0.4490204789971483}, {\"document\": \"poptaslot.nl\", \"term\": \"cloudflare\", \"tfidf\": 0.448624617585788}, {\"document\": \"poptaslot.nl\", \"term\": \"gasthuis\", \"tfidf\": 0.4324543163263378}, {\"document\": \"poptaslot.nl\", \"term\": \"arcadia\", \"tfidf\": 0.4217586792799264}, {\"document\": \"poptaslot.nl\", \"term\": \"heringastate\", \"tfidf\": 0.4210987873619212}, {\"document\": \"ruinevanbrederode.nl\", \"term\": \"brederode\", \"tfidf\": 0.8159347592421166}, {\"document\": \"ruinevanbrederode.nl\", \"term\": \"brederode\", \"tfidf\": 0.7191552932117652}, {\"document\": \"ruinevanbrederode.nl\", \"term\": \"brederode\", \"tfidf\": 0.6840477538896887}, {\"document\": \"ruinevanbrederode.nl\", \"term\": \"brederode\", \"tfidf\": 0.6475657926496063}, {\"document\": \"ruinevanbrederode.nl\", \"term\": \"brederode\", \"tfidf\": 0.6369631545989081}, {\"document\": \"ruinevanbrederode.nl\", \"term\": \"monumentenbezit\", \"tfidf\": 0.6243911476842469}, {\"document\": \"ruinevanbrederode.nl\", \"term\": \"brederode\", \"tfidf\": 0.6179214115997562}, {\"document\": \"ruinevanbrederode.nl\", \"term\": \"brederode\", \"tfidf\": 0.6017544205924032}, {\"document\": \"ruinevanbrederode.nl\", \"term\": \"brederode\", \"tfidf\": 0.5773984925102374}, {\"document\": \"ruinevanbrederode.nl\", \"term\": \"gevonden\", \"tfidf\": 0.5296750726172528}, {\"document\": \"schierstins.nl\", \"term\": \"winterreise\", \"tfidf\": 0.6413614775390513}, {\"document\": \"schierstins.nl\", \"term\": \"theun\", \"tfidf\": 0.6364459480814435}, {\"document\": \"schierstins.nl\", \"term\": \"schubert\", \"tfidf\": 0.6090771252851074}, {\"document\": \"schierstins.nl\", \"term\": \"schierstins\", \"tfidf\": 0.5753118754633718}, {\"document\": \"schierstins.nl\", \"term\": \"schierstins\", \"tfidf\": 0.5509569721534054}, {\"document\": \"schierstins.nl\", \"term\": \"schierstins\", \"tfidf\": 0.5434234487941028}, {\"document\": \"schierstins.nl\", \"term\": \"skierstins\", \"tfidf\": 0.5253102127435827}, {\"document\": \"schierstins.nl\", \"term\": \"jaarverslag\", \"tfidf\": 0.5142008581110963}, {\"document\": \"schierstins.nl\", \"term\": \"anbi\", \"tfidf\": 0.5060883961614238}, {\"document\": \"schierstins.nl\", \"term\": \"stinzenplanten\", \"tfidf\": 0.48595449429513055}, {\"document\": \"sypesteyn.nl\", \"term\": \"sypesteyn\", \"tfidf\": 0.8165848229785856}, {\"document\": \"sypesteyn.nl\", \"term\": \"kasteel\", \"tfidf\": 0.17656536030514994}, {\"document\": \"sypesteyn.nl\", \"term\": \"museum\", \"tfidf\": 0.12536528365077107}, {\"document\": \"sypesteyn.nl\", \"term\": \"jonkheer\", \"tfidf\": 0.11942806163333372}, {\"document\": \"sypesteyn.nl\", \"term\": \"loosdrecht\", \"tfidf\": 0.09314132670417827}, {\"document\": \"sypesteyn.nl\", \"term\": \"tuin\", \"tfidf\": 0.09253441960562049}, {\"document\": \"sypesteyn.nl\", \"term\": \"gooise\", \"tfidf\": 0.08960651994666659}, {\"document\": \"sypesteyn.nl\", \"term\": \"henri\", \"tfidf\": 0.08955669978486888}, {\"document\": \"sypesteyn.nl\", \"term\": \"historische\", \"tfidf\": 0.06902555853875546}, {\"document\": \"sypesteyn.nl\", \"term\": \"voorstelling\", \"tfidf\": 0.06829908684493782}, {\"document\": \"twickel.nl\", \"term\": \"twickel\", \"tfidf\": 0.7134601539340074}, {\"document\": \"twickel.nl\", \"term\": \"zuylestein\", \"tfidf\": 0.6887469424599612}, {\"document\": \"twickel.nl\", \"term\": \"dak\", \"tfidf\": 0.6779541184081672}, {\"document\": \"twickel.nl\", \"term\": \"klomp\", \"tfidf\": 0.6697050949834469}, {\"document\": \"twickel.nl\", \"term\": \"paard\", \"tfidf\": 0.6581005275509271}, {\"document\": \"twickel.nl\", \"term\": \"deldeneresch\", \"tfidf\": 0.627833302725592}, {\"document\": \"twickel.nl\", \"term\": \"24400\", \"tfidf\": 0.6151011942196447}, {\"document\": \"twickel.nl\", \"term\": \"twickel\", \"tfidf\": 0.6095830431705654}, {\"document\": \"twickel.nl\", \"term\": \"lage\", \"tfidf\": 0.5912962198911308}, {\"document\": \"twickel.nl\", \"term\": \"ondertekst\", \"tfidf\": 0.5798631269109333}, {\"document\": \"verhildersum.nl\", \"term\": \"502\", \"tfidf\": 0.39816124040100215}, {\"document\": \"verhildersum.nl\", \"term\": \"gateway\", \"tfidf\": 0.3981068192998666}, {\"document\": \"verhildersum.nl\", \"term\": \"502\", \"tfidf\": 0.39816055981908366}, {\"document\": \"verhildersum.nl\", \"term\": \"gateway\", \"tfidf\": 0.39814568185449134}, {\"document\": \"verhildersum.nl\", \"term\": \"failed\", \"tfidf\": 0.3831953728166573}, {\"document\": \"verhildersum.nl\", \"term\": \"failed\", \"tfidf\": 0.38317255152076174}, {\"document\": \"verhildersum.nl\", \"term\": \"connection\", \"tfidf\": 0.3470707647372045}, {\"document\": \"verhildersum.nl\", \"term\": \"connection\", \"tfidf\": 0.34703852058983853}, {\"document\": \"verhildersum.nl\", \"term\": \"bad\", \"tfidf\": 0.34094321331210525}, {\"document\": \"verhildersum.nl\", \"term\": \"host\", \"tfidf\": 0.34093867059005745}]}}, {\"mode\": \"vega-lite\"});\n",
              "</script>"
            ],
            "text/plain": [
              "alt.LayerChart(...)"
            ]
          },
          "execution_count": 332,
          "metadata": {},
          "output_type": "execute_result"
        }
      ],
      "source": [
        "top_tfidf = tfidf_df.sort_values(by=['document','tfidf'], ascending=[True,False]).groupby(['document']).head(10)\n",
        "\n",
        "# Terms in this list will get a red dot in the visualization\n",
        "term_list = ['kasteel', 'huis']\n",
        "\n",
        "# adding a little randomness to break ties in term ranking\n",
        "top_tfidf_plusRand = top_tfidf.copy()\n",
        "top_tfidf_plusRand['tfidf'] = top_tfidf_plusRand['tfidf'] + np.random.rand(top_tfidf.shape[0])*0.0001\n",
        "\n",
        "# base for all visualizations, with rank calculation\n",
        "base = alt.Chart(top_tfidf_plusRand).encode(\n",
        "    x = 'rank:O',\n",
        "    y = 'document:N'\n",
        ").transform_window(\n",
        "    rank = \"rank()\",\n",
        "    sort = [alt.SortField(\"tfidf\", order=\"descending\")],\n",
        "    groupby = [\"document\"],\n",
        ")\n",
        "\n",
        "# heatmap specification\n",
        "heatmap = base.mark_rect().encode(\n",
        "    color = 'tfidf:Q'\n",
        ")\n",
        "\n",
        "# red circle over terms in above list\n",
        "circle = base.mark_circle(size=100).encode(\n",
        "    color = alt.condition(\n",
        "        alt.FieldOneOfPredicate(field='term', oneOf=term_list),\n",
        "        alt.value('red'),\n",
        "        alt.value('#FFFFFF00')\n",
        "    )\n",
        ")\n",
        "\n",
        "# text labels, white for darker heatmap colors\n",
        "text = base.mark_text(baseline='middle').encode(\n",
        "    text = 'term:N',\n",
        "    color = alt.condition(alt.datum.tfidf >= 0.23, alt.value('white'), alt.value('black'))\n",
        ")\n",
        "\n",
        "# display the three superimposed visualizations\n",
        "(heatmap + circle + text).properties(width = 600)"
      ]
    }
  ],
  "metadata": {
    "kernelspec": {
      "display_name": "Python 3 (ipykernel)",
      "language": "python",
      "name": "python3"
    },
    "language_info": {
      "codemirror_mode": {
        "name": "ipython",
        "version": 3
      },
      "file_extension": ".py",
      "mimetype": "text/x-python",
      "name": "python",
      "nbconvert_exporter": "python",
      "pygments_lexer": "ipython3",
      "version": "3.9.6"
    },
    "colab": {
      "provenance": [],
      "toc_visible": true
    }
  },
  "nbformat": 4,
  "nbformat_minor": 5
}